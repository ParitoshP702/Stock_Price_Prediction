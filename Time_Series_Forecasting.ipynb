{
  "nbformat": 4,
  "nbformat_minor": 0,
  "metadata": {
    "colab": {
      "provenance": [],
      "collapsed_sections": [],
      "authorship_tag": "ABX9TyMM3FQSt1NSebqafdJlB3fq",
      "include_colab_link": true
    },
    "kernelspec": {
      "name": "python3",
      "display_name": "Python 3"
    },
    "language_info": {
      "name": "python"
    },
    "accelerator": "GPU"
  },
  "cells": [
    {
      "cell_type": "markdown",
      "metadata": {
        "id": "view-in-github",
        "colab_type": "text"
      },
      "source": [
        "<a href=\"https://colab.research.google.com/github/ParitoshP702/Stock_Price_Prediction/blob/main/Time_Series_Forecasting.ipynb\" target=\"_parent\"><img src=\"https://colab.research.google.com/assets/colab-badge.svg\" alt=\"Open In Colab\"/></a>"
      ]
    },
    {
      "cell_type": "code",
      "execution_count": null,
      "metadata": {
        "id": "MG5DU9RbIEiV"
      },
      "outputs": [],
      "source": [
        "#unzipping our data\n",
        "import zipfile\n",
        "zip_ref = zipfile.ZipFile(\"/content/S&P500.zip\")\n",
        "zip_ref.extractall()\n",
        "zip_ref.close()"
      ]
    },
    {
      "cell_type": "markdown",
      "source": [
        "## Creating our dataframe , extracting the part of MMM stocks from our Standard and Poor 500 index dataframe and visualising th adjusted close price of our Dataframe."
      ],
      "metadata": {
        "id": "_H8oJ978SFA8"
      }
    },
    {
      "cell_type": "code",
      "source": [
        "import pandas as pd\n",
        "#Creating our dataframe with pandas\n",
        "df = pd.read_csv(\"/content/sp500_stocks.csv\", parse_dates = [\"Date\"], index_col = \"Date\")\n",
        "df"
      ],
      "metadata": {
        "colab": {
          "base_uri": "https://localhost:8080/",
          "height": 455
        },
        "id": "gmlSDjlkK54C",
        "outputId": "5b18672b-619d-4b6a-ff35-872b47a38e99"
      },
      "execution_count": null,
      "outputs": [
        {
          "output_type": "execute_result",
          "data": {
            "text/plain": [
              "           Symbol   Adj Close       Close        High         Low        Open  \\\n",
              "Date                                                                            \n",
              "2009-12-31    MMM         NaN         NaN         NaN         NaN         NaN   \n",
              "2010-01-04    MMM   59.318886   83.019997   83.449997   82.669998   83.089996   \n",
              "2010-01-05    MMM   58.947342   82.500000   83.230003   81.699997   82.800003   \n",
              "2010-01-06    MMM   59.783295   83.669998   84.599998   83.510002   83.879997   \n",
              "2010-01-07    MMM   59.826176   83.730003   83.760002   82.120003   83.320000   \n",
              "...           ...         ...         ...         ...         ...         ...   \n",
              "2022-09-27    ZTS  149.399994  149.399994  151.139999  147.770004  150.089996   \n",
              "2022-09-28    ZTS  152.259995  152.259995  154.000000  150.089996  151.320007   \n",
              "2022-09-29    ZTS  150.949997  150.949997  152.559998  150.000000  152.059998   \n",
              "2022-09-30    ZTS  148.289993  148.289993  152.029999  148.039993  150.419998   \n",
              "2022-10-03    ZTS  151.350006  151.350006  152.850006  148.309998  149.279999   \n",
              "\n",
              "               Volume  \n",
              "Date                   \n",
              "2009-12-31        NaN  \n",
              "2010-01-04  3043700.0  \n",
              "2010-01-05  2847000.0  \n",
              "2010-01-06  5268500.0  \n",
              "2010-01-07  4470100.0  \n",
              "...               ...  \n",
              "2022-09-27  1930900.0  \n",
              "2022-09-28  2079200.0  \n",
              "2022-09-29  1642000.0  \n",
              "2022-09-30  2437200.0  \n",
              "2022-10-03  1580200.0  \n",
              "\n",
              "[1617648 rows x 7 columns]"
            ],
            "text/html": [
              "\n",
              "  <div id=\"df-5aaf04b5-a554-4ebd-b195-abe043ea35dd\">\n",
              "    <div class=\"colab-df-container\">\n",
              "      <div>\n",
              "<style scoped>\n",
              "    .dataframe tbody tr th:only-of-type {\n",
              "        vertical-align: middle;\n",
              "    }\n",
              "\n",
              "    .dataframe tbody tr th {\n",
              "        vertical-align: top;\n",
              "    }\n",
              "\n",
              "    .dataframe thead th {\n",
              "        text-align: right;\n",
              "    }\n",
              "</style>\n",
              "<table border=\"1\" class=\"dataframe\">\n",
              "  <thead>\n",
              "    <tr style=\"text-align: right;\">\n",
              "      <th></th>\n",
              "      <th>Symbol</th>\n",
              "      <th>Adj Close</th>\n",
              "      <th>Close</th>\n",
              "      <th>High</th>\n",
              "      <th>Low</th>\n",
              "      <th>Open</th>\n",
              "      <th>Volume</th>\n",
              "    </tr>\n",
              "    <tr>\n",
              "      <th>Date</th>\n",
              "      <th></th>\n",
              "      <th></th>\n",
              "      <th></th>\n",
              "      <th></th>\n",
              "      <th></th>\n",
              "      <th></th>\n",
              "      <th></th>\n",
              "    </tr>\n",
              "  </thead>\n",
              "  <tbody>\n",
              "    <tr>\n",
              "      <th>2009-12-31</th>\n",
              "      <td>MMM</td>\n",
              "      <td>NaN</td>\n",
              "      <td>NaN</td>\n",
              "      <td>NaN</td>\n",
              "      <td>NaN</td>\n",
              "      <td>NaN</td>\n",
              "      <td>NaN</td>\n",
              "    </tr>\n",
              "    <tr>\n",
              "      <th>2010-01-04</th>\n",
              "      <td>MMM</td>\n",
              "      <td>59.318886</td>\n",
              "      <td>83.019997</td>\n",
              "      <td>83.449997</td>\n",
              "      <td>82.669998</td>\n",
              "      <td>83.089996</td>\n",
              "      <td>3043700.0</td>\n",
              "    </tr>\n",
              "    <tr>\n",
              "      <th>2010-01-05</th>\n",
              "      <td>MMM</td>\n",
              "      <td>58.947342</td>\n",
              "      <td>82.500000</td>\n",
              "      <td>83.230003</td>\n",
              "      <td>81.699997</td>\n",
              "      <td>82.800003</td>\n",
              "      <td>2847000.0</td>\n",
              "    </tr>\n",
              "    <tr>\n",
              "      <th>2010-01-06</th>\n",
              "      <td>MMM</td>\n",
              "      <td>59.783295</td>\n",
              "      <td>83.669998</td>\n",
              "      <td>84.599998</td>\n",
              "      <td>83.510002</td>\n",
              "      <td>83.879997</td>\n",
              "      <td>5268500.0</td>\n",
              "    </tr>\n",
              "    <tr>\n",
              "      <th>2010-01-07</th>\n",
              "      <td>MMM</td>\n",
              "      <td>59.826176</td>\n",
              "      <td>83.730003</td>\n",
              "      <td>83.760002</td>\n",
              "      <td>82.120003</td>\n",
              "      <td>83.320000</td>\n",
              "      <td>4470100.0</td>\n",
              "    </tr>\n",
              "    <tr>\n",
              "      <th>...</th>\n",
              "      <td>...</td>\n",
              "      <td>...</td>\n",
              "      <td>...</td>\n",
              "      <td>...</td>\n",
              "      <td>...</td>\n",
              "      <td>...</td>\n",
              "      <td>...</td>\n",
              "    </tr>\n",
              "    <tr>\n",
              "      <th>2022-09-27</th>\n",
              "      <td>ZTS</td>\n",
              "      <td>149.399994</td>\n",
              "      <td>149.399994</td>\n",
              "      <td>151.139999</td>\n",
              "      <td>147.770004</td>\n",
              "      <td>150.089996</td>\n",
              "      <td>1930900.0</td>\n",
              "    </tr>\n",
              "    <tr>\n",
              "      <th>2022-09-28</th>\n",
              "      <td>ZTS</td>\n",
              "      <td>152.259995</td>\n",
              "      <td>152.259995</td>\n",
              "      <td>154.000000</td>\n",
              "      <td>150.089996</td>\n",
              "      <td>151.320007</td>\n",
              "      <td>2079200.0</td>\n",
              "    </tr>\n",
              "    <tr>\n",
              "      <th>2022-09-29</th>\n",
              "      <td>ZTS</td>\n",
              "      <td>150.949997</td>\n",
              "      <td>150.949997</td>\n",
              "      <td>152.559998</td>\n",
              "      <td>150.000000</td>\n",
              "      <td>152.059998</td>\n",
              "      <td>1642000.0</td>\n",
              "    </tr>\n",
              "    <tr>\n",
              "      <th>2022-09-30</th>\n",
              "      <td>ZTS</td>\n",
              "      <td>148.289993</td>\n",
              "      <td>148.289993</td>\n",
              "      <td>152.029999</td>\n",
              "      <td>148.039993</td>\n",
              "      <td>150.419998</td>\n",
              "      <td>2437200.0</td>\n",
              "    </tr>\n",
              "    <tr>\n",
              "      <th>2022-10-03</th>\n",
              "      <td>ZTS</td>\n",
              "      <td>151.350006</td>\n",
              "      <td>151.350006</td>\n",
              "      <td>152.850006</td>\n",
              "      <td>148.309998</td>\n",
              "      <td>149.279999</td>\n",
              "      <td>1580200.0</td>\n",
              "    </tr>\n",
              "  </tbody>\n",
              "</table>\n",
              "<p>1617648 rows × 7 columns</p>\n",
              "</div>\n",
              "      <button class=\"colab-df-convert\" onclick=\"convertToInteractive('df-5aaf04b5-a554-4ebd-b195-abe043ea35dd')\"\n",
              "              title=\"Convert this dataframe to an interactive table.\"\n",
              "              style=\"display:none;\">\n",
              "        \n",
              "  <svg xmlns=\"http://www.w3.org/2000/svg\" height=\"24px\"viewBox=\"0 0 24 24\"\n",
              "       width=\"24px\">\n",
              "    <path d=\"M0 0h24v24H0V0z\" fill=\"none\"/>\n",
              "    <path d=\"M18.56 5.44l.94 2.06.94-2.06 2.06-.94-2.06-.94-.94-2.06-.94 2.06-2.06.94zm-11 1L8.5 8.5l.94-2.06 2.06-.94-2.06-.94L8.5 2.5l-.94 2.06-2.06.94zm10 10l.94 2.06.94-2.06 2.06-.94-2.06-.94-.94-2.06-.94 2.06-2.06.94z\"/><path d=\"M17.41 7.96l-1.37-1.37c-.4-.4-.92-.59-1.43-.59-.52 0-1.04.2-1.43.59L10.3 9.45l-7.72 7.72c-.78.78-.78 2.05 0 2.83L4 21.41c.39.39.9.59 1.41.59.51 0 1.02-.2 1.41-.59l7.78-7.78 2.81-2.81c.8-.78.8-2.07 0-2.86zM5.41 20L4 18.59l7.72-7.72 1.47 1.35L5.41 20z\"/>\n",
              "  </svg>\n",
              "      </button>\n",
              "      \n",
              "  <style>\n",
              "    .colab-df-container {\n",
              "      display:flex;\n",
              "      flex-wrap:wrap;\n",
              "      gap: 12px;\n",
              "    }\n",
              "\n",
              "    .colab-df-convert {\n",
              "      background-color: #E8F0FE;\n",
              "      border: none;\n",
              "      border-radius: 50%;\n",
              "      cursor: pointer;\n",
              "      display: none;\n",
              "      fill: #1967D2;\n",
              "      height: 32px;\n",
              "      padding: 0 0 0 0;\n",
              "      width: 32px;\n",
              "    }\n",
              "\n",
              "    .colab-df-convert:hover {\n",
              "      background-color: #E2EBFA;\n",
              "      box-shadow: 0px 1px 2px rgba(60, 64, 67, 0.3), 0px 1px 3px 1px rgba(60, 64, 67, 0.15);\n",
              "      fill: #174EA6;\n",
              "    }\n",
              "\n",
              "    [theme=dark] .colab-df-convert {\n",
              "      background-color: #3B4455;\n",
              "      fill: #D2E3FC;\n",
              "    }\n",
              "\n",
              "    [theme=dark] .colab-df-convert:hover {\n",
              "      background-color: #434B5C;\n",
              "      box-shadow: 0px 1px 3px 1px rgba(0, 0, 0, 0.15);\n",
              "      filter: drop-shadow(0px 1px 2px rgba(0, 0, 0, 0.3));\n",
              "      fill: #FFFFFF;\n",
              "    }\n",
              "  </style>\n",
              "\n",
              "      <script>\n",
              "        const buttonEl =\n",
              "          document.querySelector('#df-5aaf04b5-a554-4ebd-b195-abe043ea35dd button.colab-df-convert');\n",
              "        buttonEl.style.display =\n",
              "          google.colab.kernel.accessAllowed ? 'block' : 'none';\n",
              "\n",
              "        async function convertToInteractive(key) {\n",
              "          const element = document.querySelector('#df-5aaf04b5-a554-4ebd-b195-abe043ea35dd');\n",
              "          const dataTable =\n",
              "            await google.colab.kernel.invokeFunction('convertToInteractive',\n",
              "                                                     [key], {});\n",
              "          if (!dataTable) return;\n",
              "\n",
              "          const docLinkHtml = 'Like what you see? Visit the ' +\n",
              "            '<a target=\"_blank\" href=https://colab.research.google.com/notebooks/data_table.ipynb>data table notebook</a>'\n",
              "            + ' to learn more about interactive tables.';\n",
              "          element.innerHTML = '';\n",
              "          dataTable['output_type'] = 'display_data';\n",
              "          await google.colab.output.renderOutput(dataTable, element);\n",
              "          const docLink = document.createElement('div');\n",
              "          docLink.innerHTML = docLinkHtml;\n",
              "          element.appendChild(docLink);\n",
              "        }\n",
              "      </script>\n",
              "    </div>\n",
              "  </div>\n",
              "  "
            ]
          },
          "metadata": {},
          "execution_count": 2
        }
      ]
    },
    {
      "cell_type": "code",
      "source": [
        "import matplotlib.pyplot as plt\n",
        "stocks_data= pd.DataFrame(df[\"Adj Close\"].iloc[:3216].dropna())\n",
        "stocks_data"
      ],
      "metadata": {
        "colab": {
          "base_uri": "https://localhost:8080/",
          "height": 455
        },
        "id": "t3joJOISLEX2",
        "outputId": "1f071edc-7a75-450c-b4d9-7985c508e3bd"
      },
      "execution_count": null,
      "outputs": [
        {
          "output_type": "execute_result",
          "data": {
            "text/plain": [
              "             Adj Close\n",
              "Date                  \n",
              "2010-01-04   59.318886\n",
              "2010-01-05   58.947342\n",
              "2010-01-06   59.783295\n",
              "2010-01-07   59.826176\n",
              "2010-01-08   60.247749\n",
              "...                ...\n",
              "2022-09-27  112.410004\n",
              "2022-09-28  114.279999\n",
              "2022-09-29  112.300003\n",
              "2022-09-30  110.500000\n",
              "2022-10-03  113.220001\n",
              "\n",
              "[3210 rows x 1 columns]"
            ],
            "text/html": [
              "\n",
              "  <div id=\"df-af9762b1-afdc-4262-a0c4-6ec516d0c292\">\n",
              "    <div class=\"colab-df-container\">\n",
              "      <div>\n",
              "<style scoped>\n",
              "    .dataframe tbody tr th:only-of-type {\n",
              "        vertical-align: middle;\n",
              "    }\n",
              "\n",
              "    .dataframe tbody tr th {\n",
              "        vertical-align: top;\n",
              "    }\n",
              "\n",
              "    .dataframe thead th {\n",
              "        text-align: right;\n",
              "    }\n",
              "</style>\n",
              "<table border=\"1\" class=\"dataframe\">\n",
              "  <thead>\n",
              "    <tr style=\"text-align: right;\">\n",
              "      <th></th>\n",
              "      <th>Adj Close</th>\n",
              "    </tr>\n",
              "    <tr>\n",
              "      <th>Date</th>\n",
              "      <th></th>\n",
              "    </tr>\n",
              "  </thead>\n",
              "  <tbody>\n",
              "    <tr>\n",
              "      <th>2010-01-04</th>\n",
              "      <td>59.318886</td>\n",
              "    </tr>\n",
              "    <tr>\n",
              "      <th>2010-01-05</th>\n",
              "      <td>58.947342</td>\n",
              "    </tr>\n",
              "    <tr>\n",
              "      <th>2010-01-06</th>\n",
              "      <td>59.783295</td>\n",
              "    </tr>\n",
              "    <tr>\n",
              "      <th>2010-01-07</th>\n",
              "      <td>59.826176</td>\n",
              "    </tr>\n",
              "    <tr>\n",
              "      <th>2010-01-08</th>\n",
              "      <td>60.247749</td>\n",
              "    </tr>\n",
              "    <tr>\n",
              "      <th>...</th>\n",
              "      <td>...</td>\n",
              "    </tr>\n",
              "    <tr>\n",
              "      <th>2022-09-27</th>\n",
              "      <td>112.410004</td>\n",
              "    </tr>\n",
              "    <tr>\n",
              "      <th>2022-09-28</th>\n",
              "      <td>114.279999</td>\n",
              "    </tr>\n",
              "    <tr>\n",
              "      <th>2022-09-29</th>\n",
              "      <td>112.300003</td>\n",
              "    </tr>\n",
              "    <tr>\n",
              "      <th>2022-09-30</th>\n",
              "      <td>110.500000</td>\n",
              "    </tr>\n",
              "    <tr>\n",
              "      <th>2022-10-03</th>\n",
              "      <td>113.220001</td>\n",
              "    </tr>\n",
              "  </tbody>\n",
              "</table>\n",
              "<p>3210 rows × 1 columns</p>\n",
              "</div>\n",
              "      <button class=\"colab-df-convert\" onclick=\"convertToInteractive('df-af9762b1-afdc-4262-a0c4-6ec516d0c292')\"\n",
              "              title=\"Convert this dataframe to an interactive table.\"\n",
              "              style=\"display:none;\">\n",
              "        \n",
              "  <svg xmlns=\"http://www.w3.org/2000/svg\" height=\"24px\"viewBox=\"0 0 24 24\"\n",
              "       width=\"24px\">\n",
              "    <path d=\"M0 0h24v24H0V0z\" fill=\"none\"/>\n",
              "    <path d=\"M18.56 5.44l.94 2.06.94-2.06 2.06-.94-2.06-.94-.94-2.06-.94 2.06-2.06.94zm-11 1L8.5 8.5l.94-2.06 2.06-.94-2.06-.94L8.5 2.5l-.94 2.06-2.06.94zm10 10l.94 2.06.94-2.06 2.06-.94-2.06-.94-.94-2.06-.94 2.06-2.06.94z\"/><path d=\"M17.41 7.96l-1.37-1.37c-.4-.4-.92-.59-1.43-.59-.52 0-1.04.2-1.43.59L10.3 9.45l-7.72 7.72c-.78.78-.78 2.05 0 2.83L4 21.41c.39.39.9.59 1.41.59.51 0 1.02-.2 1.41-.59l7.78-7.78 2.81-2.81c.8-.78.8-2.07 0-2.86zM5.41 20L4 18.59l7.72-7.72 1.47 1.35L5.41 20z\"/>\n",
              "  </svg>\n",
              "      </button>\n",
              "      \n",
              "  <style>\n",
              "    .colab-df-container {\n",
              "      display:flex;\n",
              "      flex-wrap:wrap;\n",
              "      gap: 12px;\n",
              "    }\n",
              "\n",
              "    .colab-df-convert {\n",
              "      background-color: #E8F0FE;\n",
              "      border: none;\n",
              "      border-radius: 50%;\n",
              "      cursor: pointer;\n",
              "      display: none;\n",
              "      fill: #1967D2;\n",
              "      height: 32px;\n",
              "      padding: 0 0 0 0;\n",
              "      width: 32px;\n",
              "    }\n",
              "\n",
              "    .colab-df-convert:hover {\n",
              "      background-color: #E2EBFA;\n",
              "      box-shadow: 0px 1px 2px rgba(60, 64, 67, 0.3), 0px 1px 3px 1px rgba(60, 64, 67, 0.15);\n",
              "      fill: #174EA6;\n",
              "    }\n",
              "\n",
              "    [theme=dark] .colab-df-convert {\n",
              "      background-color: #3B4455;\n",
              "      fill: #D2E3FC;\n",
              "    }\n",
              "\n",
              "    [theme=dark] .colab-df-convert:hover {\n",
              "      background-color: #434B5C;\n",
              "      box-shadow: 0px 1px 3px 1px rgba(0, 0, 0, 0.15);\n",
              "      filter: drop-shadow(0px 1px 2px rgba(0, 0, 0, 0.3));\n",
              "      fill: #FFFFFF;\n",
              "    }\n",
              "  </style>\n",
              "\n",
              "      <script>\n",
              "        const buttonEl =\n",
              "          document.querySelector('#df-af9762b1-afdc-4262-a0c4-6ec516d0c292 button.colab-df-convert');\n",
              "        buttonEl.style.display =\n",
              "          google.colab.kernel.accessAllowed ? 'block' : 'none';\n",
              "\n",
              "        async function convertToInteractive(key) {\n",
              "          const element = document.querySelector('#df-af9762b1-afdc-4262-a0c4-6ec516d0c292');\n",
              "          const dataTable =\n",
              "            await google.colab.kernel.invokeFunction('convertToInteractive',\n",
              "                                                     [key], {});\n",
              "          if (!dataTable) return;\n",
              "\n",
              "          const docLinkHtml = 'Like what you see? Visit the ' +\n",
              "            '<a target=\"_blank\" href=https://colab.research.google.com/notebooks/data_table.ipynb>data table notebook</a>'\n",
              "            + ' to learn more about interactive tables.';\n",
              "          element.innerHTML = '';\n",
              "          dataTable['output_type'] = 'display_data';\n",
              "          await google.colab.output.renderOutput(dataTable, element);\n",
              "          const docLink = document.createElement('div');\n",
              "          docLink.innerHTML = docLinkHtml;\n",
              "          element.appendChild(docLink);\n",
              "        }\n",
              "      </script>\n",
              "    </div>\n",
              "  </div>\n",
              "  "
            ]
          },
          "metadata": {},
          "execution_count": 3
        }
      ]
    },
    {
      "cell_type": "code",
      "source": [
        "stocks_data[\"Adj Close\"].plot(figsize = (10,7))"
      ],
      "metadata": {
        "colab": {
          "base_uri": "https://localhost:8080/",
          "height": 433
        },
        "id": "XFxIekKYMOKR",
        "outputId": "ca2501a5-9dc8-4422-9c6b-5de215087a12"
      },
      "execution_count": null,
      "outputs": [
        {
          "output_type": "execute_result",
          "data": {
            "text/plain": [
              "<matplotlib.axes._subplots.AxesSubplot at 0x7f4b75a55dd0>"
            ]
          },
          "metadata": {},
          "execution_count": 4
        },
        {
          "output_type": "display_data",
          "data": {
            "text/plain": [
              "<Figure size 720x504 with 1 Axes>"
            ],
            "image/png": "[encoded data removed]"
          },
          "metadata": {
            "needs_background": "light"
          }
        }
      ]
    },
    {
      "cell_type": "code",
      "source": [
        "#Now since we are concerned only with the adjusted close price we wiil extract it from our dataframe\n",
        "mm_price = stocks_data[\"Adj Close\"].to_numpy()\n",
        "mm_price"
      ],
      "metadata": {
        "colab": {
          "base_uri": "https://localhost:8080/"
        },
        "id": "qU2pxpX8SrDt",
        "outputId": "84676e72-9023-4286-afa1-e0a4abb64fc1"
      },
      "execution_count": null,
      "outputs": [
        {
          "output_type": "execute_result",
          "data": {
            "text/plain": [
              "array([ 59.3188858 ,  58.94734192,  59.78329468, ..., 112.30000305,\n",
              "       110.5       , 113.22000122])"
            ]
          },
          "metadata": {},
          "execution_count": 5
        }
      ]
    },
    {
      "cell_type": "code",
      "source": [
        "timesteps = stocks_data.index.to_numpy()\n",
        "timesteps"
      ],
      "metadata": {
        "colab": {
          "base_uri": "https://localhost:8080/"
        },
        "id": "VeOb9OPDaqGt",
        "outputId": "4db9f9e2-8ec2-4403-b93b-89bf730e47c5"
      },
      "execution_count": null,
      "outputs": [
        {
          "output_type": "execute_result",
          "data": {
            "text/plain": [
              "array(['2010-01-04T00:00:00.000000000', '2010-01-05T00:00:00.000000000',\n",
              "       '2010-01-06T00:00:00.000000000', ...,\n",
              "       '2022-09-29T00:00:00.000000000', '2022-09-30T00:00:00.000000000',\n",
              "       '2022-10-03T00:00:00.000000000'], dtype='datetime64[ns]')"
            ]
          },
          "metadata": {},
          "execution_count": 6
        }
      ]
    },
    {
      "cell_type": "code",
      "source": [
        "#Visualizing our mmm stock price data\n",
        "plt.figure(figsize = (10,7))\n",
        "plt.plot(timesteps, mm_price)\n",
        "\n",
        "plt.title(\"Stock Price Analysis\")\n",
        "plt.xlabel(\"Dates\")\n",
        "plt.ylabel(\"Price\")"
      ],
      "metadata": {
        "colab": {
          "base_uri": "https://localhost:8080/",
          "height": 475
        },
        "id": "DG_teYMybE4P",
        "outputId": "46f64535-f35a-482d-ba39-259b2f77bf29"
      },
      "execution_count": null,
      "outputs": [
        {
          "output_type": "execute_result",
          "data": {
            "text/plain": [
              "Text(0, 0.5, 'Price')"
            ]
          },
          "metadata": {},
          "execution_count": 7
        },
        {
          "output_type": "display_data",
          "data": {
            "text/plain": [
              "<Figure size 720x504 with 1 Axes>"
            ],
            "image/png": "[encoded data removed]"
          },
          "metadata": {
            "needs_background": "light"
          }
        }
      ]
    },
    {
      "cell_type": "markdown",
      "source": [
        "# Creating the train and test splits of our timeseries data"
      ],
      "metadata": {
        "id": "KlSmxUS6Shce"
      }
    },
    {
      "cell_type": "code",
      "source": [
        "split_size = int(0.8*len(mm_price))\n",
        "x_train, y_train = timesteps[:split_size], mm_price[:split_size]\n",
        "x_test, y_test = timesteps[split_size:], mm_price[split_size:]\n",
        "y_train"
      ],
      "metadata": {
        "colab": {
          "base_uri": "https://localhost:8080/"
        },
        "id": "YEJpe9xYRs1S",
        "outputId": "cb8c3b17-9f84-48be-df75-6d1bd0d7f441"
      },
      "execution_count": null,
      "outputs": [
        {
          "output_type": "execute_result",
          "data": {
            "text/plain": [
              "array([ 59.3188858 ,  58.94734192,  59.78329468, ..., 132.31143188,\n",
              "       122.2536087 , 125.55019379])"
            ]
          },
          "metadata": {},
          "execution_count": 8
        }
      ]
    },
    {
      "cell_type": "code",
      "source": [
        "#creating a plotting functio to plot our time series data\n",
        "def plot_time_series(timesteps, mm_price, start = 0, end = None, label = None, format = \".\"):\n",
        "  \"\"\"plot the series of prices against the timesteps\"\"\"\n",
        "  plt.plot(timesteps[start:end],mm_price[start:end], label = label)\n",
        "  plt.xlabel(\"Dates\")\n",
        "  plt.ylabel(\"Prices\")\n",
        "  if label:\n",
        "    plt.legend(fontsize = 14)\n",
        "  plt.grid(True)  "
      ],
      "metadata": {
        "id": "TYUF2VOpfBo_"
      },
      "execution_count": null,
      "outputs": []
    },
    {
      "cell_type": "code",
      "source": [
        "plot_time_series(timesteps, mm_price)"
      ],
      "metadata": {
        "colab": {
          "base_uri": "https://localhost:8080/",
          "height": 279
        },
        "id": "En460y06fFxq",
        "outputId": "3f75886d-0fe2-444d-f7f7-f5c30f373638"
      },
      "execution_count": null,
      "outputs": [
        {
          "output_type": "display_data",
          "data": {
            "text/plain": [
              "<Figure size 432x288 with 1 Axes>"
            ],
            "image/png": "[encoded data removed]"
          },
          "metadata": {
            "needs_background": "light"
          }
        }
      ]
    },
    {
      "cell_type": "markdown",
      "source": [
        "#Model 1 \n",
        "Making and starting with a naive forecast model(window size = 7 and horizon =1)"
      ],
      "metadata": {
        "id": "VuqFEJ6Mh193"
      }
    },
    {
      "cell_type": "markdown",
      "source": [
        "We will create a function to preprocess our data to windows and horizons"
      ],
      "metadata": {
        "id": "j8ClYEpwkCEP"
      }
    },
    {
      "cell_type": "code",
      "source": [
        "HORIZON =1\n",
        "import tensorflow as tf\n",
        "def get_labelled_window(x, horizon = HORIZON):\n",
        "  \"\"\"Creates labels for windowed dataset\"\"\"\n",
        "  return x[:,:-horizon], x[:,-horizon:]"
      ],
      "metadata": {
        "id": "UqLyFQY3hPOs"
      },
      "execution_count": null,
      "outputs": []
    },
    {
      "cell_type": "code",
      "source": [
        "test_window, test_label = get_labelled_window(tf.expand_dims(tf.range(8)+1,axis = 0))\n",
        "test_window, test_label"
      ],
      "metadata": {
        "colab": {
          "base_uri": "https://localhost:8080/"
        },
        "id": "kvy8Gg0hwi-r",
        "outputId": "c88085dd-7ee2-41c1-d65a-9e3f85eb24ca"
      },
      "execution_count": null,
      "outputs": [
        {
          "output_type": "execute_result",
          "data": {
            "text/plain": [
              "(<tf.Tensor: shape=(1, 7), dtype=int32, numpy=array([[1, 2, 3, 4, 5, 6, 7]], dtype=int32)>,\n",
              " <tf.Tensor: shape=(1, 1), dtype=int32, numpy=array([[8]], dtype=int32)>)"
            ]
          },
          "metadata": {},
          "execution_count": 14
        }
      ]
    },
    {
      "cell_type": "code",
      "source": [
        "WINDOW_SIZE = 7\n",
        "import numpy as np\n",
        "def make_windows(x, horizon = HORIZON, window_size = WINDOW_SIZE):\n",
        "  #1. create a window of specific window size\n",
        "  window_step = np.expand_dims(np.arange(window_size+ horizon), axis = 0)\n",
        "  #2. Use numpy indexing to create a 2D array of multiple windows\n",
        "  window_indexes = window_step + np.expand_dims(np.arange(len(x)-(window_size+horizon-1)), axis = 0).T\n",
        "  windowed_array = x[window_indexes]\n",
        "  windows,labels = get_labelled_window(windowed_array, horizon = horizon)\n",
        "  return windows, labels\n"
      ],
      "metadata": {
        "id": "un-hfNQmlZOz"
      },
      "execution_count": null,
      "outputs": []
    },
    {
      "cell_type": "code",
      "source": [
        "full_windows, full_labels = make_windows(mm_price, window_size = WINDOW_SIZE, horizon = HORIZON)\n",
        "full_windows"
      ],
      "metadata": {
        "colab": {
          "base_uri": "https://localhost:8080/"
        },
        "id": "LvLHG5oemmzf",
        "outputId": "fbbc68b3-b4a0-4a94-f572-bdad7c591848"
      },
      "execution_count": null,
      "outputs": [
        {
          "output_type": "execute_result",
          "data": {
            "text/plain": [
              "array([[ 59.3188858 ,  58.94734192,  59.78329468, ...,  60.24774933,\n",
              "         60.00482559,  60.0548439 ],\n",
              "       [ 58.94734192,  59.78329468,  59.82617569, ...,  60.00482559,\n",
              "         60.0548439 ,  59.86194229],\n",
              "       [ 59.78329468,  59.82617569,  60.24774933, ...,  60.0548439 ,\n",
              "         59.86194229,  59.66186523],\n",
              "       ...,\n",
              "       [116.51999664, 114.80999756, 114.13999939, ..., 113.        ,\n",
              "        112.41000366, 114.27999878],\n",
              "       [114.80999756, 114.13999939, 112.98999786, ..., 112.41000366,\n",
              "        114.27999878, 112.30000305],\n",
              "       [114.13999939, 112.98999786, 113.        , ..., 114.27999878,\n",
              "        112.30000305, 110.5       ]])"
            ]
          },
          "metadata": {},
          "execution_count": 16
        }
      ]
    },
    {
      "cell_type": "code",
      "source": [
        "#training our windowed datasets to train and test windows\n",
        "def make_train_test_splits(windows, labels, test_split = 0.2):\n",
        "  split_size = int(len(windows)*(1-test_split))\n",
        "  train_windows = windows[:split_size]\n",
        "  train_labels = labels[:split_size]\n",
        "  test_windows = windows[split_size:]\n",
        "  test_labels = labels[split_size:] \n",
        "  return train_windows, train_labels, test_windows, test_labels"
      ],
      "metadata": {
        "id": "0H2jTfnMn6hl"
      },
      "execution_count": null,
      "outputs": []
    },
    {
      "cell_type": "code",
      "source": [
        "train_windows, train_labels,test_windows, test_labels = make_train_test_splits(full_windows, full_labels)\n",
        "train_windows"
      ],
      "metadata": {
        "colab": {
          "base_uri": "https://localhost:8080/"
        },
        "id": "j7qYE3_nsyRY",
        "outputId": "b54142b6-3dcd-488c-bdb4-7db9151cbf32"
      },
      "execution_count": null,
      "outputs": [
        {
          "output_type": "execute_result",
          "data": {
            "text/plain": [
              "array([[ 59.3188858 ,  58.94734192,  59.78329468, ...,  60.24774933,\n",
              "         60.00482559,  60.0548439 ],\n",
              "       [ 58.94734192,  59.78329468,  59.82617569, ...,  60.00482559,\n",
              "         60.0548439 ,  59.86194229],\n",
              "       [ 59.78329468,  59.82617569,  60.24774933, ...,  60.0548439 ,\n",
              "         59.86194229,  59.66186523],\n",
              "       ...,\n",
              "       [141.39804077, 143.48991394, 134.53405762, ..., 137.50379944,\n",
              "        124.74704742, 132.31143188],\n",
              "       [143.48991394, 134.53405762, 143.16305542, ..., 124.74704742,\n",
              "        132.31143188, 122.2536087 ],\n",
              "       [134.53405762, 143.16305542, 137.50379944, ..., 132.31143188,\n",
              "        122.2536087 , 125.55019379]])"
            ]
          },
          "metadata": {},
          "execution_count": 18
        }
      ]
    },
    {
      "cell_type": "code",
      "source": [
        "#Creating a model checkpoint callback to save the weights of our model\n",
        "import os\n",
        "def create_model_checkpoint(model_name, save_path= \"model_experiments\"):\n",
        "  return tf.keras.callbacks.ModelCheckpoint(filepath = os.path.join(save_path, model_name), verbose = 0, save_best_only = True)"
      ],
      "metadata": {
        "id": "iQUr4ItKr7gZ"
      },
      "execution_count": null,
      "outputs": []
    },
    {
      "cell_type": "markdown",
      "source": [
        "# Building and compiling our first time series forecasting model using Sequential API"
      ],
      "metadata": {
        "id": "QZjuV1liq4xn"
      }
    },
    {
      "cell_type": "code",
      "source": [
        "import tensorflow as tf\n",
        "tf.random.set_seed(42)\n",
        "model_1 = tf.keras.Sequential([\n",
        "    tf.keras.layers.Dense(128, activation = \"relu\"),\n",
        "    tf.keras.layers.Dense(HORIZON, activation = \"linear\")\n",
        "], name = \"model_1\")"
      ],
      "metadata": {
        "id": "99DFLj3Aq5kS"
      },
      "execution_count": null,
      "outputs": []
    },
    {
      "cell_type": "code",
      "source": [
        "model_1.compile(loss = \"mae\", optimizer = tf.keras.optimizers.Adam(), metrics = [\"mae\",\"mse\"])"
      ],
      "metadata": {
        "id": "LD1HgNw7qpbD"
      },
      "execution_count": null,
      "outputs": []
    },
    {
      "cell_type": "code",
      "source": [
        "#Fitting our model\n",
        "model_1.fit(x= train_windows,y = train_labels,epochs = 100, verbose = 1,batch_size = 128, validation_data = (test_windows,test_labels),\n",
        "            callbacks = [create_model_checkpoint(model_name = model_1.name)])"
      ],
      "metadata": {
        "colab": {
          "base_uri": "https://localhost:8080/"
        },
        "id": "2TAVq4Svrw2i",
        "outputId": "00612e69-97f8-4063-b978-1be9cc990392"
      },
      "execution_count": null,
      "outputs": [
        {
          "output_type": "stream",
          "name": "stdout",
          "text": [
            "Epoch 1/100\n",
            "21/21 [==============================] - 1s 33ms/step - loss: 25.5919 - mae: 25.5919 - mse: 1274.9496 - val_loss: 4.7369 - val_mae: 4.7369 - val_mse: 32.8427\n",
            "Epoch 2/100\n",
            "21/21 [==============================] - 0s 19ms/step - loss: 3.4348 - mae: 3.4348 - mse: 20.4717 - val_loss: 3.1289 - val_mae: 3.1289 - val_mse: 16.3016\n",
            "Epoch 3/100\n",
            "21/21 [==============================] - 0s 2ms/step - loss: 1.9549 - mae: 1.9549 - mse: 8.7120 - val_loss: 3.1289 - val_mae: 3.1289 - val_mse: 16.2609\n",
            "Epoch 4/100\n",
            "21/21 [==============================] - 0s 18ms/step - loss: 1.8251 - mae: 1.8251 - mse: 8.0326 - val_loss: 2.8554 - val_mae: 2.8554 - val_mse: 14.3943\n",
            "Epoch 5/100\n",
            "21/21 [==============================] - 0s 3ms/step - loss: 1.7934 - mae: 1.7934 - mse: 7.7706 - val_loss: 3.0156 - val_mae: 3.0156 - val_mse: 16.1630\n",
            "Epoch 6/100\n",
            "21/21 [==============================] - 0s 2ms/step - loss: 1.8835 - mae: 1.8835 - mse: 8.3077 - val_loss: 2.8941 - val_mae: 2.8941 - val_mse: 15.0442\n",
            "Epoch 7/100\n",
            "21/21 [==============================] - 0s 2ms/step - loss: 1.7439 - mae: 1.7439 - mse: 7.4680 - val_loss: 2.8773 - val_mae: 2.8773 - val_mse: 14.8849\n",
            "Epoch 8/100\n",
            "21/21 [==============================] - 0s 3ms/step - loss: 1.7677 - mae: 1.7677 - mse: 7.5823 - val_loss: 3.0504 - val_mae: 3.0504 - val_mse: 15.4289\n",
            "Epoch 9/100\n",
            "21/21 [==============================] - 0s 2ms/step - loss: 1.8178 - mae: 1.8178 - mse: 7.7510 - val_loss: 2.9030 - val_mae: 2.9030 - val_mse: 15.0902\n",
            "Epoch 10/100\n",
            "21/21 [==============================] - 0s 20ms/step - loss: 1.7488 - mae: 1.7488 - mse: 7.4901 - val_loss: 2.7863 - val_mae: 2.7863 - val_mse: 13.6749\n",
            "Epoch 11/100\n",
            "21/21 [==============================] - 0s 2ms/step - loss: 1.7231 - mae: 1.7231 - mse: 7.2178 - val_loss: 3.1886 - val_mae: 3.1886 - val_mse: 16.2988\n",
            "Epoch 12/100\n",
            "21/21 [==============================] - 0s 3ms/step - loss: 1.8672 - mae: 1.8672 - mse: 7.8644 - val_loss: 4.0968 - val_mae: 4.0968 - val_mse: 25.5425\n",
            "Epoch 13/100\n",
            "21/21 [==============================] - 0s 2ms/step - loss: 2.0229 - mae: 2.0229 - mse: 8.8560 - val_loss: 2.8643 - val_mae: 2.8643 - val_mse: 13.9525\n",
            "Epoch 14/100\n",
            "21/21 [==============================] - 0s 2ms/step - loss: 1.6994 - mae: 1.6994 - mse: 7.0700 - val_loss: 3.1295 - val_mae: 3.1295 - val_mse: 15.7641\n",
            "Epoch 15/100\n",
            "21/21 [==============================] - 0s 22ms/step - loss: 1.9244 - mae: 1.9244 - mse: 7.8750 - val_loss: 2.7771 - val_mae: 2.7771 - val_mse: 13.9359\n",
            "Epoch 16/100\n",
            "21/21 [==============================] - 0s 19ms/step - loss: 1.6844 - mae: 1.6844 - mse: 6.8829 - val_loss: 2.6997 - val_mae: 2.6997 - val_mse: 12.8945\n",
            "Epoch 17/100\n",
            "21/21 [==============================] - 0s 2ms/step - loss: 1.6723 - mae: 1.6723 - mse: 6.7750 - val_loss: 4.0814 - val_mae: 4.0814 - val_mse: 25.1169\n",
            "Epoch 18/100\n",
            "21/21 [==============================] - 0s 2ms/step - loss: 2.2037 - mae: 2.2037 - mse: 10.1117 - val_loss: 2.9598 - val_mae: 2.9598 - val_mse: 15.3792\n",
            "Epoch 19/100\n",
            "21/21 [==============================] - 0s 2ms/step - loss: 1.7389 - mae: 1.7389 - mse: 7.2149 - val_loss: 2.9270 - val_mae: 2.9270 - val_mse: 15.0956\n",
            "Epoch 20/100\n",
            "21/21 [==============================] - 0s 3ms/step - loss: 1.7109 - mae: 1.7109 - mse: 6.9289 - val_loss: 2.7688 - val_mae: 2.7688 - val_mse: 13.7957\n",
            "Epoch 21/100\n",
            "21/21 [==============================] - 0s 2ms/step - loss: 1.6379 - mae: 1.6379 - mse: 6.6051 - val_loss: 2.7611 - val_mae: 2.7611 - val_mse: 13.7195\n",
            "Epoch 22/100\n",
            "21/21 [==============================] - 0s 20ms/step - loss: 1.6509 - mae: 1.6509 - mse: 6.5291 - val_loss: 2.5967 - val_mae: 2.5967 - val_mse: 12.1853\n",
            "Epoch 23/100\n",
            "21/21 [==============================] - 0s 21ms/step - loss: 1.5973 - mae: 1.5973 - mse: 6.3141 - val_loss: 2.5850 - val_mae: 2.5850 - val_mse: 11.9928\n",
            "Epoch 24/100\n",
            "21/21 [==============================] - 0s 20ms/step - loss: 1.5798 - mae: 1.5798 - mse: 6.1530 - val_loss: 2.5663 - val_mae: 2.5663 - val_mse: 11.8619\n",
            "Epoch 25/100\n",
            "21/21 [==============================] - 0s 3ms/step - loss: 1.5714 - mae: 1.5714 - mse: 6.0806 - val_loss: 2.6009 - val_mae: 2.6009 - val_mse: 11.9102\n",
            "Epoch 26/100\n",
            "21/21 [==============================] - 0s 19ms/step - loss: 1.6708 - mae: 1.6708 - mse: 6.5216 - val_loss: 2.5493 - val_mae: 2.5493 - val_mse: 11.8758\n",
            "Epoch 27/100\n",
            "21/21 [==============================] - 0s 2ms/step - loss: 1.5432 - mae: 1.5432 - mse: 5.9355 - val_loss: 2.9252 - val_mae: 2.9252 - val_mse: 13.8750\n",
            "Epoch 28/100\n",
            "21/21 [==============================] - 0s 2ms/step - loss: 1.7658 - mae: 1.7658 - mse: 6.8991 - val_loss: 2.9288 - val_mae: 2.9288 - val_mse: 14.7997\n",
            "Epoch 29/100\n",
            "21/21 [==============================] - 0s 2ms/step - loss: 1.7416 - mae: 1.7416 - mse: 6.7804 - val_loss: 5.5053 - val_mae: 5.5053 - val_mse: 39.5711\n",
            "Epoch 30/100\n",
            "21/21 [==============================] - 0s 2ms/step - loss: 2.7904 - mae: 2.7904 - mse: 13.8565 - val_loss: 3.1519 - val_mae: 3.1519 - val_mse: 15.4079\n",
            "Epoch 31/100\n",
            "21/21 [==============================] - 0s 3ms/step - loss: 2.2338 - mae: 2.2338 - mse: 9.8188 - val_loss: 3.8025 - val_mae: 3.8025 - val_mse: 21.9004\n",
            "Epoch 32/100\n",
            "21/21 [==============================] - 0s 19ms/step - loss: 2.0984 - mae: 2.0984 - mse: 8.6806 - val_loss: 2.5272 - val_mae: 2.5272 - val_mse: 11.7149\n",
            "Epoch 33/100\n",
            "21/21 [==============================] - 0s 19ms/step - loss: 1.5186 - mae: 1.5186 - mse: 5.7230 - val_loss: 2.4740 - val_mae: 2.4740 - val_mse: 11.2474\n",
            "Epoch 34/100\n",
            "21/21 [==============================] - 0s 3ms/step - loss: 1.5028 - mae: 1.5028 - mse: 5.6544 - val_loss: 2.6692 - val_mae: 2.6692 - val_mse: 12.7867\n",
            "Epoch 35/100\n",
            "21/21 [==============================] - 0s 2ms/step - loss: 1.6090 - mae: 1.6090 - mse: 6.0628 - val_loss: 3.7237 - val_mae: 3.7237 - val_mse: 21.0549\n",
            "Epoch 36/100\n",
            "21/21 [==============================] - 0s 2ms/step - loss: 2.0942 - mae: 2.0942 - mse: 8.8505 - val_loss: 2.6922 - val_mae: 2.6922 - val_mse: 12.1384\n",
            "Epoch 37/100\n",
            "21/21 [==============================] - 0s 2ms/step - loss: 1.6428 - mae: 1.6428 - mse: 6.1220 - val_loss: 2.5841 - val_mae: 2.5841 - val_mse: 11.4657\n",
            "Epoch 38/100\n",
            "21/21 [==============================] - 0s 2ms/step - loss: 1.6701 - mae: 1.6701 - mse: 6.3041 - val_loss: 2.7414 - val_mae: 2.7414 - val_mse: 13.2057\n",
            "Epoch 39/100\n",
            "21/21 [==============================] - 1s 27ms/step - loss: 1.5205 - mae: 1.5205 - mse: 5.6288 - val_loss: 2.4016 - val_mae: 2.4016 - val_mse: 10.6133\n",
            "Epoch 40/100\n",
            "21/21 [==============================] - 0s 2ms/step - loss: 1.4908 - mae: 1.4908 - mse: 5.4150 - val_loss: 2.4766 - val_mae: 2.4766 - val_mse: 11.2789\n",
            "Epoch 41/100\n",
            "21/21 [==============================] - 0s 2ms/step - loss: 1.4721 - mae: 1.4721 - mse: 5.3372 - val_loss: 2.7058 - val_mae: 2.7058 - val_mse: 12.1154\n",
            "Epoch 42/100\n",
            "21/21 [==============================] - 0s 20ms/step - loss: 1.6276 - mae: 1.6276 - mse: 6.0081 - val_loss: 2.3875 - val_mae: 2.3875 - val_mse: 10.2823\n",
            "Epoch 43/100\n",
            "21/21 [==============================] - 0s 22ms/step - loss: 1.4711 - mae: 1.4711 - mse: 5.2548 - val_loss: 2.3599 - val_mae: 2.3599 - val_mse: 10.1401\n",
            "Epoch 44/100\n",
            "21/21 [==============================] - 0s 2ms/step - loss: 1.4442 - mae: 1.4442 - mse: 5.1302 - val_loss: 3.0585 - val_mae: 3.0585 - val_mse: 15.3793\n",
            "Epoch 45/100\n",
            "21/21 [==============================] - 0s 2ms/step - loss: 1.5566 - mae: 1.5566 - mse: 5.6909 - val_loss: 2.5015 - val_mae: 2.5015 - val_mse: 10.8089\n",
            "Epoch 46/100\n",
            "21/21 [==============================] - 0s 2ms/step - loss: 1.5289 - mae: 1.5289 - mse: 5.4595 - val_loss: 2.5303 - val_mae: 2.5303 - val_mse: 10.9466\n",
            "Epoch 47/100\n",
            "21/21 [==============================] - 0s 3ms/step - loss: 1.6703 - mae: 1.6703 - mse: 6.1009 - val_loss: 2.8049 - val_mae: 2.8049 - val_mse: 13.4356\n",
            "Epoch 48/100\n",
            "21/21 [==============================] - 0s 2ms/step - loss: 1.5314 - mae: 1.5314 - mse: 5.4452 - val_loss: 2.5802 - val_mae: 2.5802 - val_mse: 11.9130\n",
            "Epoch 49/100\n",
            "21/21 [==============================] - 0s 3ms/step - loss: 1.4249 - mae: 1.4249 - mse: 4.9728 - val_loss: 2.4458 - val_mae: 2.4458 - val_mse: 10.9771\n",
            "Epoch 50/100\n",
            "21/21 [==============================] - 0s 3ms/step - loss: 1.4321 - mae: 1.4321 - mse: 4.9845 - val_loss: 2.4348 - val_mae: 2.4348 - val_mse: 10.3370\n",
            "Epoch 51/100\n",
            "21/21 [==============================] - 0s 2ms/step - loss: 1.5309 - mae: 1.5309 - mse: 5.3154 - val_loss: 2.5021 - val_mae: 2.5021 - val_mse: 11.3335\n",
            "Epoch 52/100\n",
            "21/21 [==============================] - 0s 20ms/step - loss: 1.4034 - mae: 1.4034 - mse: 4.8919 - val_loss: 2.2920 - val_mae: 2.2920 - val_mse: 9.8066\n",
            "Epoch 53/100\n",
            "21/21 [==============================] - 0s 2ms/step - loss: 1.3960 - mae: 1.3960 - mse: 4.8202 - val_loss: 3.9380 - val_mae: 3.9380 - val_mse: 22.3075\n",
            "Epoch 54/100\n",
            "21/21 [==============================] - 0s 2ms/step - loss: 1.8159 - mae: 1.8159 - mse: 6.7558 - val_loss: 2.3743 - val_mae: 2.3743 - val_mse: 9.9121\n",
            "Epoch 55/100\n",
            "21/21 [==============================] - 0s 2ms/step - loss: 1.4916 - mae: 1.4916 - mse: 5.1127 - val_loss: 2.4109 - val_mae: 2.4109 - val_mse: 10.0906\n",
            "Epoch 56/100\n",
            "21/21 [==============================] - 0s 21ms/step - loss: 1.4225 - mae: 1.4225 - mse: 4.9080 - val_loss: 2.2386 - val_mae: 2.2386 - val_mse: 9.3369\n",
            "Epoch 57/100\n",
            "21/21 [==============================] - 0s 2ms/step - loss: 1.3617 - mae: 1.3617 - mse: 4.5611 - val_loss: 3.2612 - val_mae: 3.2612 - val_mse: 16.6056\n",
            "Epoch 58/100\n",
            "21/21 [==============================] - 0s 3ms/step - loss: 1.6295 - mae: 1.6295 - mse: 5.7097 - val_loss: 2.9021 - val_mae: 2.9021 - val_mse: 13.9289\n",
            "Epoch 59/100\n",
            "21/21 [==============================] - 0s 2ms/step - loss: 1.5349 - mae: 1.5349 - mse: 5.3519 - val_loss: 2.3148 - val_mae: 2.3148 - val_mse: 9.9647\n",
            "Epoch 60/100\n",
            "21/21 [==============================] - 0s 20ms/step - loss: 1.3487 - mae: 1.3487 - mse: 4.5098 - val_loss: 2.2072 - val_mae: 2.2072 - val_mse: 9.0533\n",
            "Epoch 61/100\n",
            "21/21 [==============================] - 0s 3ms/step - loss: 1.3676 - mae: 1.3676 - mse: 4.6128 - val_loss: 2.8809 - val_mae: 2.8809 - val_mse: 13.7257\n",
            "Epoch 62/100\n",
            "21/21 [==============================] - 0s 2ms/step - loss: 1.4829 - mae: 1.4829 - mse: 5.1657 - val_loss: 2.2745 - val_mae: 2.2745 - val_mse: 9.6663\n",
            "Epoch 63/100\n",
            "21/21 [==============================] - 0s 2ms/step - loss: 1.3459 - mae: 1.3459 - mse: 4.4896 - val_loss: 2.3597 - val_mae: 2.3597 - val_mse: 10.2348\n",
            "Epoch 64/100\n",
            "21/21 [==============================] - 0s 3ms/step - loss: 1.3909 - mae: 1.3909 - mse: 4.6828 - val_loss: 2.2192 - val_mae: 2.2192 - val_mse: 9.2629\n",
            "Epoch 65/100\n",
            "21/21 [==============================] - 0s 3ms/step - loss: 1.3679 - mae: 1.3679 - mse: 4.6033 - val_loss: 2.7691 - val_mae: 2.7691 - val_mse: 12.8887\n",
            "Epoch 66/100\n",
            "21/21 [==============================] - 0s 3ms/step - loss: 1.5784 - mae: 1.5784 - mse: 5.5808 - val_loss: 2.7044 - val_mae: 2.7044 - val_mse: 12.4362\n",
            "Epoch 67/100\n",
            "21/21 [==============================] - 0s 4ms/step - loss: 1.4077 - mae: 1.4077 - mse: 4.7709 - val_loss: 2.4756 - val_mae: 2.4756 - val_mse: 10.2670\n",
            "Epoch 68/100\n",
            "21/21 [==============================] - 0s 2ms/step - loss: 1.4431 - mae: 1.4431 - mse: 4.7775 - val_loss: 3.8570 - val_mae: 3.8570 - val_mse: 21.1925\n",
            "Epoch 69/100\n",
            "21/21 [==============================] - 0s 3ms/step - loss: 2.0768 - mae: 2.0768 - mse: 8.0513 - val_loss: 2.2338 - val_mae: 2.2338 - val_mse: 8.9492\n",
            "Epoch 70/100\n",
            "21/21 [==============================] - 0s 3ms/step - loss: 1.3466 - mae: 1.3466 - mse: 4.4190 - val_loss: 3.0171 - val_mae: 3.0171 - val_mse: 14.5597\n",
            "Epoch 71/100\n",
            "21/21 [==============================] - 0s 2ms/step - loss: 1.5821 - mae: 1.5821 - mse: 5.3924 - val_loss: 2.9543 - val_mae: 2.9543 - val_mse: 14.1002\n",
            "Epoch 72/100\n",
            "21/21 [==============================] - 0s 3ms/step - loss: 1.4945 - mae: 1.4945 - mse: 5.1514 - val_loss: 2.4030 - val_mae: 2.4030 - val_mse: 10.4217\n",
            "Epoch 73/100\n",
            "21/21 [==============================] - 0s 20ms/step - loss: 1.2972 - mae: 1.2972 - mse: 4.2278 - val_loss: 2.1586 - val_mae: 2.1586 - val_mse: 8.8201\n",
            "Epoch 74/100\n",
            "21/21 [==============================] - 0s 2ms/step - loss: 1.2870 - mae: 1.2870 - mse: 4.1349 - val_loss: 2.2510 - val_mae: 2.2510 - val_mse: 8.9649\n",
            "Epoch 75/100\n",
            "21/21 [==============================] - 0s 2ms/step - loss: 1.3811 - mae: 1.3811 - mse: 4.4190 - val_loss: 3.1481 - val_mae: 3.1481 - val_mse: 15.4370\n",
            "Epoch 76/100\n",
            "21/21 [==============================] - 0s 21ms/step - loss: 1.6400 - mae: 1.6400 - mse: 5.5354 - val_loss: 2.1134 - val_mae: 2.1134 - val_mse: 8.4195\n",
            "Epoch 77/100\n",
            "21/21 [==============================] - 0s 2ms/step - loss: 1.2779 - mae: 1.2779 - mse: 4.0947 - val_loss: 2.4771 - val_mae: 2.4771 - val_mse: 10.1718\n",
            "Epoch 78/100\n",
            "21/21 [==============================] - 0s 3ms/step - loss: 1.4559 - mae: 1.4559 - mse: 4.7910 - val_loss: 2.2586 - val_mae: 2.2586 - val_mse: 9.4865\n",
            "Epoch 79/100\n",
            "21/21 [==============================] - 0s 2ms/step - loss: 1.3308 - mae: 1.3308 - mse: 4.3103 - val_loss: 3.2930 - val_mae: 3.2930 - val_mse: 16.4746\n",
            "Epoch 80/100\n",
            "21/21 [==============================] - 0s 3ms/step - loss: 1.7666 - mae: 1.7666 - mse: 6.3719 - val_loss: 2.8110 - val_mae: 2.8110 - val_mse: 13.0108\n",
            "Epoch 81/100\n",
            "21/21 [==============================] - 0s 2ms/step - loss: 1.4037 - mae: 1.4037 - mse: 4.5191 - val_loss: 2.8623 - val_mae: 2.8623 - val_mse: 13.3550\n",
            "Epoch 82/100\n",
            "21/21 [==============================] - 0s 2ms/step - loss: 1.4969 - mae: 1.4969 - mse: 4.8411 - val_loss: 2.1749 - val_mae: 2.1749 - val_mse: 8.9266\n",
            "Epoch 83/100\n",
            "21/21 [==============================] - 0s 2ms/step - loss: 1.2983 - mae: 1.2983 - mse: 4.1459 - val_loss: 2.6652 - val_mae: 2.6652 - val_mse: 11.2569\n",
            "Epoch 84/100\n",
            "21/21 [==============================] - 0s 2ms/step - loss: 1.4325 - mae: 1.4325 - mse: 4.7946 - val_loss: 2.3008 - val_mae: 2.3008 - val_mse: 9.1157\n",
            "Epoch 85/100\n",
            "21/21 [==============================] - 0s 2ms/step - loss: 1.3065 - mae: 1.3065 - mse: 4.1211 - val_loss: 3.0030 - val_mae: 3.0030 - val_mse: 13.4623\n",
            "Epoch 86/100\n",
            "21/21 [==============================] - 0s 2ms/step - loss: 1.7636 - mae: 1.7636 - mse: 5.9991 - val_loss: 2.2277 - val_mae: 2.2277 - val_mse: 8.7268\n",
            "Epoch 87/100\n",
            "21/21 [==============================] - 0s 2ms/step - loss: 1.3474 - mae: 1.3474 - mse: 4.3042 - val_loss: 2.5849 - val_mae: 2.5849 - val_mse: 11.4679\n",
            "Epoch 88/100\n",
            "21/21 [==============================] - 0s 3ms/step - loss: 1.3784 - mae: 1.3784 - mse: 4.4649 - val_loss: 2.2544 - val_mae: 2.2544 - val_mse: 8.8444\n",
            "Epoch 89/100\n",
            "21/21 [==============================] - 0s 2ms/step - loss: 1.3698 - mae: 1.3698 - mse: 4.3439 - val_loss: 2.1380 - val_mae: 2.1380 - val_mse: 8.2887\n",
            "Epoch 90/100\n",
            "21/21 [==============================] - 0s 19ms/step - loss: 1.2919 - mae: 1.2919 - mse: 4.0719 - val_loss: 2.0666 - val_mae: 2.0666 - val_mse: 8.1254\n",
            "Epoch 91/100\n",
            "21/21 [==============================] - 0s 3ms/step - loss: 1.2426 - mae: 1.2426 - mse: 3.8666 - val_loss: 3.1354 - val_mae: 3.1354 - val_mse: 15.1978\n",
            "Epoch 92/100\n",
            "21/21 [==============================] - 0s 2ms/step - loss: 1.7186 - mae: 1.7186 - mse: 5.7577 - val_loss: 2.1104 - val_mae: 2.1104 - val_mse: 8.4790\n",
            "Epoch 93/100\n",
            "21/21 [==============================] - 0s 2ms/step - loss: 1.4351 - mae: 1.4351 - mse: 4.5137 - val_loss: 2.7592 - val_mae: 2.7592 - val_mse: 12.5807\n",
            "Epoch 94/100\n",
            "21/21 [==============================] - 0s 3ms/step - loss: 1.3231 - mae: 1.3231 - mse: 4.1806 - val_loss: 2.2321 - val_mae: 2.2321 - val_mse: 8.6943\n",
            "Epoch 95/100\n",
            "21/21 [==============================] - 0s 2ms/step - loss: 1.4151 - mae: 1.4151 - mse: 4.6307 - val_loss: 3.6125 - val_mae: 3.6125 - val_mse: 17.9665\n",
            "Epoch 96/100\n",
            "21/21 [==============================] - 0s 2ms/step - loss: 1.5560 - mae: 1.5560 - mse: 5.0796 - val_loss: 3.9751 - val_mae: 3.9751 - val_mse: 21.0338\n",
            "Epoch 97/100\n",
            "21/21 [==============================] - 0s 2ms/step - loss: 2.1565 - mae: 2.1565 - mse: 8.3034 - val_loss: 4.1753 - val_mae: 4.1753 - val_mse: 23.5742\n",
            "Epoch 98/100\n",
            "21/21 [==============================] - 0s 2ms/step - loss: 1.9347 - mae: 1.9347 - mse: 7.2060 - val_loss: 2.1629 - val_mae: 2.1629 - val_mse: 8.3778\n",
            "Epoch 99/100\n",
            "21/21 [==============================] - 0s 21ms/step - loss: 1.3056 - mae: 1.3056 - mse: 4.0632 - val_loss: 2.0489 - val_mae: 2.0489 - val_mse: 7.9335\n",
            "Epoch 100/100\n",
            "21/21 [==============================] - 0s 2ms/step - loss: 1.2366 - mae: 1.2366 - mse: 3.8383 - val_loss: 2.0829 - val_mae: 2.0829 - val_mse: 8.2883\n"
          ]
        },
        {
          "output_type": "execute_result",
          "data": {
            "text/plain": [
              "<keras.callbacks.History at 0x7f4b0aa99a90>"
            ]
          },
          "metadata": {},
          "execution_count": 22
        }
      ]
    },
    {
      "cell_type": "code",
      "source": [
        "model_1.evaluate(test_windows, test_labels)"
      ],
      "metadata": {
        "colab": {
          "base_uri": "https://localhost:8080/"
        },
        "id": "ZbDNp65ftRHx",
        "outputId": "599f07c6-1770-4d90-dc5d-84e4c9edbab8"
      },
      "execution_count": null,
      "outputs": [
        {
          "output_type": "stream",
          "name": "stdout",
          "text": [
            "21/21 [==============================] - 0s 949us/step - loss: 2.0829 - mae: 2.0829 - mse: 8.2883\n"
          ]
        },
        {
          "output_type": "execute_result",
          "data": {
            "text/plain": [
              "[2.0828568935394287, 2.0828568935394287, 8.2882661819458]"
            ]
          },
          "metadata": {},
          "execution_count": 23
        }
      ]
    },
    {
      "cell_type": "code",
      "source": [
        "#Loading our best saved model\n",
        "model_1 = tf.keras.models.load_model(\"model_experiments/model_1/\")\n",
        "model_1.evaluate(test_windows,test_labels)"
      ],
      "metadata": {
        "colab": {
          "base_uri": "https://localhost:8080/"
        },
        "id": "NJXPIxC6xtTu",
        "outputId": "2d0d9ec1-118c-4406-f9d4-aecd4810fe9d"
      },
      "execution_count": null,
      "outputs": [
        {
          "output_type": "stream",
          "name": "stdout",
          "text": [
            "21/21 [==============================] - 0s 1ms/step - loss: 2.0489 - mae: 2.0489 - mse: 7.9335\n"
          ]
        },
        {
          "output_type": "execute_result",
          "data": {
            "text/plain": [
              "[2.048914670944214, 2.048914670944214, 7.933521270751953]"
            ]
          },
          "metadata": {},
          "execution_count": 24
        }
      ]
    },
    {
      "cell_type": "markdown",
      "source": [
        "Creating a function to make predictions"
      ],
      "metadata": {
        "id": "R3bsvNPUyLlp"
      }
    },
    {
      "cell_type": "code",
      "source": [
        "def make_preds(model, input_data):\n",
        "  forecast = model.predict(input_data)\n",
        "  return tf.squeeze(forecast)\n",
        "model_1_preds = make_preds(model_1, test_windows)  "
      ],
      "metadata": {
        "id": "f-lJavR3yF4i"
      },
      "execution_count": null,
      "outputs": []
    },
    {
      "cell_type": "code",
      "source": [
        "model_1_preds"
      ],
      "metadata": {
        "colab": {
          "base_uri": "https://localhost:8080/"
        },
        "id": "tqcpRiOZyoTB",
        "outputId": "d0c3cb88-fd21-421c-8063-5e862815a579"
      },
      "execution_count": null,
      "outputs": [
        {
          "output_type": "execute_result",
          "data": {
            "text/plain": [
              "<tf.Tensor: shape=(641,), dtype=float32, numpy=\n",
              "array([127.60929 , 128.50723 , 122.01162 , 116.980965, 119.20835 ,\n",
              "       120.87333 , 124.149895, 125.777504, 126.76418 , 126.07422 ,\n",
              "       125.89466 , 126.97025 , 126.39972 , 128.23328 , 132.15375 ,\n",
              "       135.73857 , 136.85062 , 137.3039  , 138.03622 , 136.89113 ,\n",
              "       135.93628 , 136.64616 , 135.38164 , 133.6204  , 134.30586 ,\n",
              "       134.2902  , 135.69939 , 139.90668 , 143.68597 , 144.86151 ,\n",
              "       143.61789 , 140.96205 , 139.21872 , 138.38179 , 137.75311 ,\n",
              "       137.21887 , 137.92741 , 137.00484 , 134.73552 , 131.02003 ,\n",
              "       128.7228  , 128.76967 , 134.1801  , 136.99715 , 138.72554 ,\n",
              "       138.17911 , 137.7047  , 139.9041  , 145.01352 , 146.65904 ,\n",
              "       147.52065 , 147.00749 , 147.29416 , 149.49655 , 151.85197 ,\n",
              "       154.91792 , 156.38864 , 156.6707  , 155.60191 , 149.7765  ,\n",
              "       147.31915 , 148.0836  , 149.18755 , 150.26936 , 150.94484 ,\n",
              "       149.40704 , 148.48003 , 148.62132 , 146.31343 , 145.93462 ,\n",
              "       145.04788 , 145.75432 , 146.50652 , 146.98491 , 147.2295  ,\n",
              "       148.4048  , 147.01736 , 146.51881 , 144.7518  , 144.15381 ,\n",
              "       145.10005 , 147.54353 , 148.9938  , 150.48044 , 150.49358 ,\n",
              "       148.9435  , 148.62709 , 149.20998 , 149.66725 , 150.44139 ,\n",
              "       152.38329 , 149.43825 , 148.26134 , 145.93266 , 143.65276 ,\n",
              "       142.63853 , 143.19737 , 144.4631  , 146.26852 , 147.8111  ,\n",
              "       150.06857 , 152.04665 , 153.36302 , 155.09047 , 155.78592 ,\n",
              "       155.50642 , 155.28493 , 154.96199 , 154.25047 , 154.13725 ,\n",
              "       154.96785 , 155.12022 , 155.61647 , 156.00319 , 156.73889 ,\n",
              "       155.95912 , 156.45168 , 158.77802 , 158.67735 , 158.23929 ,\n",
              "       157.08932 , 156.90509 , 155.97162 , 157.38939 , 158.86925 ,\n",
              "       158.90749 , 159.90004 , 162.26161 , 161.58835 , 157.79707 ,\n",
              "       156.15111 , 153.55098 , 152.87553 , 153.19234 , 153.90985 ,\n",
              "       152.73822 , 152.80684 , 151.83885 , 152.17914 , 153.46736 ,\n",
              "       154.19444 , 156.24562 , 158.14958 , 159.49477 , 160.08957 ,\n",
              "       159.48769 , 159.50053 , 160.27943 , 161.43646 , 161.69084 ,\n",
              "       162.2787  , 161.51884 , 161.9287  , 161.7639  , 160.15744 ,\n",
              "       156.63083 , 153.7829  , 151.95007 , 152.13866 , 153.86061 ,\n",
              "       156.00693 , 154.42653 , 154.67363 , 154.82079 , 154.92802 ,\n",
              "       157.9908  , 160.09306 , 159.25653 , 160.6025  , 162.86278 ,\n",
              "       163.78798 , 163.91743 , 164.44661 , 164.8387  , 165.84375 ,\n",
              "       168.2     , 169.35983 , 169.4388  , 167.73839 , 165.58568 ,\n",
              "       164.99902 , 165.03014 , 165.37169 , 164.78604 , 165.05202 ,\n",
              "       166.4681  , 166.65541 , 166.91515 , 166.75905 , 166.8401  ,\n",
              "       167.58745 , 168.83902 , 169.09639 , 168.98178 , 168.25389 ,\n",
              "       167.62895 , 167.48999 , 167.6833  , 167.37708 , 167.31084 ,\n",
              "       167.56071 , 166.27267 , 165.4918  , 166.3506  , 164.66214 ,\n",
              "       162.33418 , 160.66095 , 159.91461 , 159.62393 , 160.17789 ,\n",
              "       159.66487 , 160.87718 , 162.06046 , 163.09221 , 162.83316 ,\n",
              "       163.18465 , 165.6644  , 172.4167  , 174.73244 , 172.15599 ,\n",
              "       169.68166 , 168.11201 , 167.6678  , 169.66817 , 171.21489 ,\n",
              "       172.15535 , 172.97023 , 173.43684 , 172.45065 , 172.54701 ,\n",
              "       171.76321 , 171.37114 , 172.50125 , 171.91988 , 171.02402 ,\n",
              "       171.00148 , 171.23975 , 172.01273 , 171.19044 , 170.82677 ,\n",
              "       171.07513 , 171.53993 , 171.87581 , 173.6982  , 175.55736 ,\n",
              "       175.62265 , 177.08426 , 177.9876  , 178.1871  , 180.7806  ,\n",
              "       181.23956 , 181.40001 , 183.32306 , 182.95874 , 182.93568 ,\n",
              "       183.04382 , 183.43889 , 185.1069  , 187.17888 , 188.31093 ,\n",
              "       188.55183 , 187.33305 , 186.78893 , 187.62785 , 188.1696  ,\n",
              "       188.62846 , 189.17082 , 190.26048 , 190.79298 , 190.67043 ,\n",
              "       190.54541 , 190.7273  , 191.3235  , 191.96228 , 192.08214 ,\n",
              "       193.14282 , 193.80075 , 194.72948 , 194.17384 , 191.22966 ,\n",
              "       190.09016 , 191.31264 , 191.0505  , 192.0059  , 192.78778 ,\n",
              "       193.4575  , 194.64915 , 195.91388 , 198.09566 , 197.81372 ,\n",
              "       195.1159  , 195.85367 , 196.69197 , 197.39024 , 197.67107 ,\n",
              "       196.98215 , 196.21635 , 196.60005 , 197.10625 , 197.1371  ,\n",
              "       196.77795 , 197.38762 , 197.70198 , 197.91231 , 198.20773 ,\n",
              "       198.3347  , 199.47664 , 199.26001 , 198.86497 , 198.30162 ,\n",
              "       198.03845 , 197.79202 , 197.35359 , 196.39494 , 194.2735  ,\n",
              "       192.12587 , 189.50175 , 189.77586 , 190.08562 , 189.13002 ,\n",
              "       188.82234 , 189.41734 , 190.05646 , 190.91905 , 192.48387 ,\n",
              "       193.17622 , 193.97195 , 193.0717  , 193.93748 , 193.49059 ,\n",
              "       194.70515 , 195.00023 , 195.00163 , 196.05247 , 197.0436  ,\n",
              "       195.57892 , 194.33849 , 194.84167 , 195.04243 , 194.84773 ,\n",
              "       195.43622 , 195.95003 , 195.4387  , 194.63869 , 193.98964 ,\n",
              "       193.2442  , 192.88136 , 194.55583 , 193.82826 , 193.23048 ,\n",
              "       193.25816 , 192.7882  , 193.30125 , 195.32466 , 195.76068 ,\n",
              "       195.76707 , 196.55183 , 195.43732 , 193.44937 , 192.0503  ,\n",
              "       191.29463 , 191.09634 , 191.5534  , 191.39626 , 191.58357 ,\n",
              "       191.55925 , 192.10835 , 191.82483 , 190.96422 , 191.09013 ,\n",
              "       191.07901 , 186.8001  , 185.65837 , 184.03593 , 182.35083 ,\n",
              "       182.43277 , 181.41183 , 180.56726 , 180.34807 , 179.27199 ,\n",
              "       178.29118 , 176.96898 , 176.50203 , 177.59787 , 177.80588 ,\n",
              "       178.3099  , 177.7765  , 177.47057 , 174.98448 , 174.2166  ,\n",
              "       173.53181 , 174.1538  , 174.74944 , 175.17574 , 174.25491 ,\n",
              "       173.79721 , 172.93938 , 173.4948  , 175.37625 , 177.17728 ,\n",
              "       178.0229  , 178.65213 , 178.77907 , 178.69232 , 178.23553 ,\n",
              "       178.74536 , 178.82883 , 177.07533 , 176.87108 , 176.26665 ,\n",
              "       176.08815 , 177.6075  , 178.61382 , 177.86784 , 178.391   ,\n",
              "       178.23427 , 178.04955 , 178.766   , 178.08508 , 179.01869 ,\n",
              "       179.72264 , 179.93085 , 180.06989 , 178.7721  , 177.73848 ,\n",
              "       177.98676 , 177.81468 , 177.00383 , 175.65694 , 174.83957 ,\n",
              "       171.69783 , 170.29094 , 169.58821 , 170.1566  , 172.80052 ,\n",
              "       174.46463 , 174.22795 , 174.35826 , 174.5684  , 173.60059 ,\n",
              "       173.56151 , 173.82536 , 175.11537 , 174.22311 , 172.8748  ,\n",
              "       171.8868  , 171.23285 , 172.12357 , 174.02303 , 175.04039 ,\n",
              "       175.86559 , 175.99202 , 175.77603 , 175.88673 , 177.1443  ,\n",
              "       177.55084 , 177.08498 , 177.60817 , 176.67232 , 176.73354 ,\n",
              "       177.4621  , 178.37596 , 177.68443 , 177.37744 , 176.83842 ,\n",
              "       174.43785 , 172.57909 , 172.02971 , 171.86473 , 169.9435  ,\n",
              "       169.53691 , 165.5059  , 164.60732 , 165.2124  , 165.44547 ,\n",
              "       164.1425  , 162.21277 , 160.23503 , 160.487   , 161.39697 ,\n",
              "       160.16179 , 159.22008 , 157.64818 , 156.55345 , 155.40062 ,\n",
              "       152.4062  , 149.74995 , 148.25536 , 146.24025 , 145.1197  ,\n",
              "       147.97832 , 148.31354 , 146.74657 , 147.12997 , 147.47743 ,\n",
              "       146.64044 , 145.61017 , 145.55202 , 145.65613 , 144.9177  ,\n",
              "       143.25624 , 143.39235 , 143.47481 , 144.54857 , 146.50984 ,\n",
              "       147.56084 , 147.8275  , 148.97389 , 148.34837 , 148.5169  ,\n",
              "       149.5541  , 149.54048 , 150.76915 , 151.41457 , 149.99458 ,\n",
              "       149.80577 , 149.74376 , 149.0845  , 149.90637 , 150.118   ,\n",
              "       149.81674 , 150.06822 , 149.38377 , 148.8834  , 148.25491 ,\n",
              "       147.18768 , 148.54533 , 149.75087 , 150.75792 , 150.28218 ,\n",
              "       149.39122 , 146.53139 , 145.3401  , 146.11093 , 145.4724  ,\n",
              "       145.6725  , 147.21208 , 150.37117 , 150.09587 , 150.15117 ,\n",
              "       151.00766 , 149.9029  , 147.94469 , 149.30003 , 149.00832 ,\n",
              "       149.59679 , 151.4744  , 150.33302 , 148.33012 , 146.24217 ,\n",
              "       145.00313 , 145.27979 , 145.90292 , 146.55928 , 148.19997 ,\n",
              "       148.64046 , 147.59416 , 147.8914  , 146.84657 , 146.33762 ,\n",
              "       146.80995 , 146.30109 , 145.05412 , 141.69923 , 138.74168 ,\n",
              "       136.87184 , 135.61171 , 133.43243 , 132.02269 , 130.75829 ,\n",
              "       130.5504  , 130.45381 , 132.57037 , 132.76717 , 131.57695 ,\n",
              "       130.70117 , 129.95311 , 128.90425 , 129.38176 , 129.74219 ,\n",
              "       129.85994 , 129.39247 , 129.2441  , 129.60715 , 129.0348  ,\n",
              "       128.72209 , 129.51381 , 129.15628 , 130.5686  , 132.0849  ,\n",
              "       132.95418 , 133.55559 , 134.00856 , 136.98506 , 138.2084  ,\n",
              "       139.278   , 141.42908 , 142.3383  , 141.73225 , 143.03685 ,\n",
              "       145.27504 , 146.33559 , 147.66115 , 147.99095 , 148.36894 ,\n",
              "       148.83408 , 150.76726 , 151.13823 , 150.83678 , 149.07805 ,\n",
              "       147.8083  , 146.30528 , 144.13051 , 142.94095 , 142.11037 ,\n",
              "       142.28703 , 136.15169 , 131.25897 , 127.75332 , 125.64802 ,\n",
              "       125.541084, 124.824165, 120.39661 , 120.26949 , 119.68679 ,\n",
              "       121.20319 , 123.35765 , 122.18473 , 119.4585  , 118.07679 ,\n",
              "       116.84759 , 116.85827 , 117.08876 , 116.07965 , 115.05324 ,\n",
              "       113.96113 , 113.441414, 112.97741 , 113.71566 , 113.10468 ,\n",
              "       111.88978 ], dtype=float32)>"
            ]
          },
          "metadata": {},
          "execution_count": 26
        }
      ]
    },
    {
      "cell_type": "markdown",
      "source": [
        "# Building our Conv1D model and preparing our data to be fed into the conv1D layer"
      ],
      "metadata": {
        "id": "h2ozNIQmzU-u"
      }
    },
    {
      "cell_type": "code",
      "source": [
        "#Building our model\n",
        "from tensorflow.keras import layers\n",
        "model_2 = tf.keras.Sequential([\n",
        "    layers.Lambda(lambda x: tf.expand_dims(x,axis = 1)),\n",
        "    layers.Conv1D(filters = 128, kernel_size = 7, strides = 1, padding = \"causal\", activation = \"relu\"),\n",
        "    layers.Dense(HORIZON)\n",
        "], name = \"model_2\")"
      ],
      "metadata": {
        "id": "LPBqGLNkz4VX"
      },
      "execution_count": null,
      "outputs": []
    },
    {
      "cell_type": "code",
      "source": [
        "model_2.compile(loss = \"mae\", optimizer = tf.keras.optimizers.Adam(), metrics = [\"mae\",\"mse\"])\n"
      ],
      "metadata": {
        "id": "S-3drs090l6L"
      },
      "execution_count": null,
      "outputs": []
    },
    {
      "cell_type": "code",
      "source": [
        "#Fitting our model\n",
        "model_2.fit(x = train_windows, y = train_labels, epochs = 100, batch_size = 128, validation_data = (test_windows, test_labels),\n",
        "            callbacks = [create_model_checkpoint(model_name = model_2.name)])"
      ],
      "metadata": {
        "colab": {
          "base_uri": "https://localhost:8080/"
        },
        "id": "JleN9m7I0vVJ",
        "outputId": "d4454d17-5dd2-4495-f997-c6955b9e2578"
      },
      "execution_count": null,
      "outputs": [
        {
          "output_type": "stream",
          "name": "stdout",
          "text": [
            "Epoch 1/100\n",
            "21/21 [==============================] - 1s 33ms/step - loss: 67.5677 - mae: 67.5677 - mse: 6293.6987 - val_loss: 12.5510 - val_mae: 12.5510 - val_mse: 172.8090\n",
            "Epoch 2/100\n",
            "21/21 [==============================] - 1s 36ms/step - loss: 7.0979 - mae: 7.0979 - mse: 79.7398 - val_loss: 6.0145 - val_mae: 6.0145 - val_mse: 45.9487\n",
            "Epoch 3/100\n",
            "21/21 [==============================] - 1s 29ms/step - loss: 2.3022 - mae: 2.3022 - mse: 10.6098 - val_loss: 2.9192 - val_mae: 2.9192 - val_mse: 15.0788\n",
            "Epoch 4/100\n",
            "21/21 [==============================] - 0s 3ms/step - loss: 1.7849 - mae: 1.7849 - mse: 7.5096 - val_loss: 3.0612 - val_mae: 3.0612 - val_mse: 16.2292\n",
            "Epoch 5/100\n",
            "21/21 [==============================] - 1s 29ms/step - loss: 1.7288 - mae: 1.7288 - mse: 7.2973 - val_loss: 2.8176 - val_mae: 2.8176 - val_mse: 14.2126\n",
            "Epoch 6/100\n",
            "21/21 [==============================] - 0s 3ms/step - loss: 1.7687 - mae: 1.7687 - mse: 7.4114 - val_loss: 3.1412 - val_mae: 3.1412 - val_mse: 16.8630\n",
            "Epoch 7/100\n",
            "21/21 [==============================] - 0s 3ms/step - loss: 1.9085 - mae: 1.9085 - mse: 8.2474 - val_loss: 2.9010 - val_mae: 2.9010 - val_mse: 14.8997\n",
            "Epoch 8/100\n",
            "21/21 [==============================] - 1s 28ms/step - loss: 1.8013 - mae: 1.8013 - mse: 7.6408 - val_loss: 2.7761 - val_mae: 2.7761 - val_mse: 13.5280\n",
            "Epoch 9/100\n",
            "21/21 [==============================] - 1s 29ms/step - loss: 1.6965 - mae: 1.6965 - mse: 7.0674 - val_loss: 2.7485 - val_mae: 2.7485 - val_mse: 13.5415\n",
            "Epoch 10/100\n",
            "21/21 [==============================] - 0s 3ms/step - loss: 1.6942 - mae: 1.6942 - mse: 7.1401 - val_loss: 2.8480 - val_mae: 2.8480 - val_mse: 14.4359\n",
            "Epoch 11/100\n",
            "21/21 [==============================] - 0s 2ms/step - loss: 1.8790 - mae: 1.8790 - mse: 8.1189 - val_loss: 2.7852 - val_mae: 2.7852 - val_mse: 13.9063\n",
            "Epoch 12/100\n",
            "21/21 [==============================] - 0s 2ms/step - loss: 1.6899 - mae: 1.6899 - mse: 7.0159 - val_loss: 2.8068 - val_mae: 2.8068 - val_mse: 14.0756\n",
            "Epoch 13/100\n",
            "21/21 [==============================] - 0s 2ms/step - loss: 1.6827 - mae: 1.6827 - mse: 7.0697 - val_loss: 2.8270 - val_mae: 2.8270 - val_mse: 14.2389\n",
            "Epoch 14/100\n",
            "21/21 [==============================] - 0s 3ms/step - loss: 1.6766 - mae: 1.6766 - mse: 6.9444 - val_loss: 3.0596 - val_mae: 3.0596 - val_mse: 15.2780\n",
            "Epoch 15/100\n",
            "21/21 [==============================] - 0s 3ms/step - loss: 1.8491 - mae: 1.8491 - mse: 7.6243 - val_loss: 3.4196 - val_mae: 3.4196 - val_mse: 19.1149\n",
            "Epoch 16/100\n",
            "21/21 [==============================] - 0s 3ms/step - loss: 1.9644 - mae: 1.9644 - mse: 8.5714 - val_loss: 2.7532 - val_mae: 2.7532 - val_mse: 13.6086\n",
            "Epoch 17/100\n",
            "21/21 [==============================] - 0s 3ms/step - loss: 1.6849 - mae: 1.6849 - mse: 7.0145 - val_loss: 3.2002 - val_mae: 3.2002 - val_mse: 17.2125\n",
            "Epoch 18/100\n",
            "21/21 [==============================] - 1s 27ms/step - loss: 1.8810 - mae: 1.8810 - mse: 8.1016 - val_loss: 2.7230 - val_mae: 2.7230 - val_mse: 13.0081\n",
            "Epoch 19/100\n",
            "21/21 [==============================] - 1s 28ms/step - loss: 1.9641 - mae: 1.9641 - mse: 8.3146 - val_loss: 2.6895 - val_mae: 2.6895 - val_mse: 12.9344\n",
            "Epoch 20/100\n",
            "21/21 [==============================] - 0s 2ms/step - loss: 1.6481 - mae: 1.6481 - mse: 6.7516 - val_loss: 2.7171 - val_mae: 2.7171 - val_mse: 13.2854\n",
            "Epoch 21/100\n",
            "21/21 [==============================] - 0s 3ms/step - loss: 1.6443 - mae: 1.6443 - mse: 6.7092 - val_loss: 2.9108 - val_mae: 2.9108 - val_mse: 14.8421\n",
            "Epoch 22/100\n",
            "21/21 [==============================] - 1s 30ms/step - loss: 1.7126 - mae: 1.7126 - mse: 7.0017 - val_loss: 2.6713 - val_mae: 2.6713 - val_mse: 12.7545\n",
            "Epoch 23/100\n",
            "21/21 [==============================] - 0s 2ms/step - loss: 1.6479 - mae: 1.6479 - mse: 6.6178 - val_loss: 2.6721 - val_mae: 2.6721 - val_mse: 12.6566\n",
            "Epoch 24/100\n",
            "21/21 [==============================] - 1s 27ms/step - loss: 1.6475 - mae: 1.6475 - mse: 6.6134 - val_loss: 2.6704 - val_mae: 2.6704 - val_mse: 12.8620\n",
            "Epoch 25/100\n",
            "21/21 [==============================] - 0s 2ms/step - loss: 1.6199 - mae: 1.6199 - mse: 6.5295 - val_loss: 2.7331 - val_mae: 2.7331 - val_mse: 12.8958\n",
            "Epoch 26/100\n",
            "21/21 [==============================] - 0s 2ms/step - loss: 1.7212 - mae: 1.7212 - mse: 6.8592 - val_loss: 3.0191 - val_mae: 3.0191 - val_mse: 15.6023\n",
            "Epoch 27/100\n",
            "21/21 [==============================] - 0s 2ms/step - loss: 1.6827 - mae: 1.6827 - mse: 6.8918 - val_loss: 3.2059 - val_mae: 3.2059 - val_mse: 16.1078\n",
            "Epoch 28/100\n",
            "21/21 [==============================] - 0s 3ms/step - loss: 1.8229 - mae: 1.8229 - mse: 7.4817 - val_loss: 3.3549 - val_mae: 3.3549 - val_mse: 18.3292\n",
            "Epoch 29/100\n",
            "21/21 [==============================] - 0s 3ms/step - loss: 2.0636 - mae: 2.0636 - mse: 8.8585 - val_loss: 3.8772 - val_mae: 3.8772 - val_mse: 22.9801\n",
            "Epoch 30/100\n",
            "21/21 [==============================] - 0s 3ms/step - loss: 1.8437 - mae: 1.8437 - mse: 7.7516 - val_loss: 3.8683 - val_mae: 3.8683 - val_mse: 21.5516\n",
            "Epoch 31/100\n",
            "21/21 [==============================] - 1s 31ms/step - loss: 2.3714 - mae: 2.3714 - mse: 11.0110 - val_loss: 2.6498 - val_mae: 2.6498 - val_mse: 12.3200\n",
            "Epoch 32/100\n",
            "21/21 [==============================] - 0s 2ms/step - loss: 1.6279 - mae: 1.6279 - mse: 6.4231 - val_loss: 3.4907 - val_mae: 3.4907 - val_mse: 19.4455\n",
            "Epoch 33/100\n",
            "21/21 [==============================] - 0s 3ms/step - loss: 1.8866 - mae: 1.8866 - mse: 7.8779 - val_loss: 2.8079 - val_mae: 2.8079 - val_mse: 13.2483\n",
            "Epoch 34/100\n",
            "21/21 [==============================] - 0s 3ms/step - loss: 1.8890 - mae: 1.8890 - mse: 7.7159 - val_loss: 2.6974 - val_mae: 2.6974 - val_mse: 12.5247\n",
            "Epoch 35/100\n",
            "21/21 [==============================] - 0s 2ms/step - loss: 1.6066 - mae: 1.6066 - mse: 6.3113 - val_loss: 3.1302 - val_mae: 3.1302 - val_mse: 16.3598\n",
            "Epoch 36/100\n",
            "21/21 [==============================] - 1s 38ms/step - loss: 1.8255 - mae: 1.8255 - mse: 7.4801 - val_loss: 2.5987 - val_mae: 2.5987 - val_mse: 11.9622\n",
            "Epoch 37/100\n",
            "21/21 [==============================] - 0s 2ms/step - loss: 1.6298 - mae: 1.6298 - mse: 6.4051 - val_loss: 2.6347 - val_mae: 2.6347 - val_mse: 12.1159\n",
            "Epoch 38/100\n",
            "21/21 [==============================] - 0s 3ms/step - loss: 1.6362 - mae: 1.6362 - mse: 6.4008 - val_loss: 2.7392 - val_mae: 2.7392 - val_mse: 13.3394\n",
            "Epoch 39/100\n",
            "21/21 [==============================] - 0s 2ms/step - loss: 1.5911 - mae: 1.5911 - mse: 6.2387 - val_loss: 3.1331 - val_mae: 3.1331 - val_mse: 15.4034\n",
            "Epoch 40/100\n",
            "21/21 [==============================] - 0s 3ms/step - loss: 2.0121 - mae: 2.0121 - mse: 8.3815 - val_loss: 2.8512 - val_mae: 2.8512 - val_mse: 13.4567\n",
            "Epoch 41/100\n",
            "21/21 [==============================] - 0s 3ms/step - loss: 1.6206 - mae: 1.6206 - mse: 6.3034 - val_loss: 2.8061 - val_mae: 2.8061 - val_mse: 13.1347\n",
            "Epoch 42/100\n",
            "21/21 [==============================] - 1s 27ms/step - loss: 1.6899 - mae: 1.6899 - mse: 6.5726 - val_loss: 2.5955 - val_mae: 2.5955 - val_mse: 11.8137\n",
            "Epoch 43/100\n",
            "21/21 [==============================] - 0s 2ms/step - loss: 1.5899 - mae: 1.5899 - mse: 6.0814 - val_loss: 2.6259 - val_mae: 2.6259 - val_mse: 11.9610\n",
            "Epoch 44/100\n",
            "21/21 [==============================] - 0s 3ms/step - loss: 1.6682 - mae: 1.6682 - mse: 6.3274 - val_loss: 3.2041 - val_mae: 3.2041 - val_mse: 16.8329\n",
            "Epoch 45/100\n",
            "21/21 [==============================] - 1s 29ms/step - loss: 1.7586 - mae: 1.7586 - mse: 7.0492 - val_loss: 2.5878 - val_mae: 2.5878 - val_mse: 12.1274\n",
            "Epoch 46/100\n",
            "21/21 [==============================] - 0s 2ms/step - loss: 1.5561 - mae: 1.5561 - mse: 5.9934 - val_loss: 2.6752 - val_mae: 2.6752 - val_mse: 12.2053\n",
            "Epoch 47/100\n",
            "21/21 [==============================] - 0s 2ms/step - loss: 1.6131 - mae: 1.6131 - mse: 6.2213 - val_loss: 2.8011 - val_mae: 2.8011 - val_mse: 13.6890\n",
            "Epoch 48/100\n",
            "21/21 [==============================] - 1s 29ms/step - loss: 1.5858 - mae: 1.5858 - mse: 6.1671 - val_loss: 2.5188 - val_mae: 2.5188 - val_mse: 11.3494\n",
            "Epoch 49/100\n",
            "21/21 [==============================] - 0s 4ms/step - loss: 1.5410 - mae: 1.5410 - mse: 5.8637 - val_loss: 2.5244 - val_mae: 2.5244 - val_mse: 11.5622\n",
            "Epoch 50/100\n",
            "21/21 [==============================] - 1s 27ms/step - loss: 1.5362 - mae: 1.5362 - mse: 5.7922 - val_loss: 2.5054 - val_mae: 2.5054 - val_mse: 11.3221\n",
            "Epoch 51/100\n",
            "21/21 [==============================] - 0s 3ms/step - loss: 1.5358 - mae: 1.5358 - mse: 5.7583 - val_loss: 2.6271 - val_mae: 2.6271 - val_mse: 11.8317\n",
            "Epoch 52/100\n",
            "21/21 [==============================] - 0s 3ms/step - loss: 1.7001 - mae: 1.7001 - mse: 6.4163 - val_loss: 2.7117 - val_mae: 2.7117 - val_mse: 12.9932\n",
            "Epoch 53/100\n",
            "21/21 [==============================] - 0s 3ms/step - loss: 1.5969 - mae: 1.5969 - mse: 6.0573 - val_loss: 3.2654 - val_mae: 3.2654 - val_mse: 17.1981\n",
            "Epoch 54/100\n",
            "21/21 [==============================] - 0s 3ms/step - loss: 1.8196 - mae: 1.8196 - mse: 7.2353 - val_loss: 2.5236 - val_mae: 2.5236 - val_mse: 11.2017\n",
            "Epoch 55/100\n",
            "21/21 [==============================] - 1s 29ms/step - loss: 1.5841 - mae: 1.5841 - mse: 6.0310 - val_loss: 2.4853 - val_mae: 2.4853 - val_mse: 11.2181\n",
            "Epoch 56/100\n",
            "21/21 [==============================] - 0s 2ms/step - loss: 1.5318 - mae: 1.5318 - mse: 5.6854 - val_loss: 2.8470 - val_mae: 2.8470 - val_mse: 13.9036\n",
            "Epoch 57/100\n",
            "21/21 [==============================] - 0s 2ms/step - loss: 1.5878 - mae: 1.5878 - mse: 6.0928 - val_loss: 2.5773 - val_mae: 2.5773 - val_mse: 11.9689\n",
            "Epoch 58/100\n",
            "21/21 [==============================] - 0s 2ms/step - loss: 1.5789 - mae: 1.5789 - mse: 5.9513 - val_loss: 2.5064 - val_mae: 2.5064 - val_mse: 11.4372\n",
            "Epoch 59/100\n",
            "21/21 [==============================] - 1s 29ms/step - loss: 1.4989 - mae: 1.4989 - mse: 5.5744 - val_loss: 2.4635 - val_mae: 2.4635 - val_mse: 11.0442\n",
            "Epoch 60/100\n",
            "21/21 [==============================] - 1s 29ms/step - loss: 1.4836 - mae: 1.4836 - mse: 5.4809 - val_loss: 2.4467 - val_mae: 2.4467 - val_mse: 10.8087\n",
            "Epoch 61/100\n",
            "21/21 [==============================] - 1s 27ms/step - loss: 1.4902 - mae: 1.4902 - mse: 5.5081 - val_loss: 2.4428 - val_mae: 2.4428 - val_mse: 10.7110\n",
            "Epoch 62/100\n",
            "21/21 [==============================] - 0s 2ms/step - loss: 1.5335 - mae: 1.5335 - mse: 5.7159 - val_loss: 2.5425 - val_mae: 2.5425 - val_mse: 11.6798\n",
            "Epoch 63/100\n",
            "21/21 [==============================] - 0s 3ms/step - loss: 1.5050 - mae: 1.5050 - mse: 5.6199 - val_loss: 2.4653 - val_mae: 2.4653 - val_mse: 11.0966\n",
            "Epoch 64/100\n",
            "21/21 [==============================] - 1s 28ms/step - loss: 1.5259 - mae: 1.5259 - mse: 5.6337 - val_loss: 2.4338 - val_mae: 2.4338 - val_mse: 10.5783\n",
            "Epoch 65/100\n",
            "21/21 [==============================] - 0s 2ms/step - loss: 1.4822 - mae: 1.4822 - mse: 5.4284 - val_loss: 3.1639 - val_mae: 3.1639 - val_mse: 16.2101\n",
            "Epoch 66/100\n",
            "21/21 [==============================] - 0s 2ms/step - loss: 1.6822 - mae: 1.6822 - mse: 6.6637 - val_loss: 2.6733 - val_mae: 2.6733 - val_mse: 11.9044\n",
            "Epoch 67/100\n",
            "21/21 [==============================] - 1s 37ms/step - loss: 1.5850 - mae: 1.5850 - mse: 5.8394 - val_loss: 2.4066 - val_mae: 2.4066 - val_mse: 10.5169\n",
            "Epoch 68/100\n",
            "21/21 [==============================] - 0s 2ms/step - loss: 1.4527 - mae: 1.4527 - mse: 5.2524 - val_loss: 3.3172 - val_mae: 3.3172 - val_mse: 17.4048\n",
            "Epoch 69/100\n",
            "21/21 [==============================] - 1s 29ms/step - loss: 1.8830 - mae: 1.8830 - mse: 7.4046 - val_loss: 2.3955 - val_mae: 2.3955 - val_mse: 10.3642\n",
            "Epoch 70/100\n",
            "21/21 [==============================] - 0s 2ms/step - loss: 1.4630 - mae: 1.4630 - mse: 5.3429 - val_loss: 2.4629 - val_mae: 2.4629 - val_mse: 11.0509\n",
            "Epoch 71/100\n",
            "21/21 [==============================] - 0s 3ms/step - loss: 1.4814 - mae: 1.4814 - mse: 5.3872 - val_loss: 2.4521 - val_mae: 2.4521 - val_mse: 10.9669\n",
            "Epoch 72/100\n",
            "21/21 [==============================] - 0s 2ms/step - loss: 1.4643 - mae: 1.4643 - mse: 5.3163 - val_loss: 2.4068 - val_mae: 2.4068 - val_mse: 10.6210\n",
            "Epoch 73/100\n",
            "21/21 [==============================] - 1s 29ms/step - loss: 1.4636 - mae: 1.4636 - mse: 5.2499 - val_loss: 2.3756 - val_mae: 2.3756 - val_mse: 10.1675\n",
            "Epoch 74/100\n",
            "21/21 [==============================] - 0s 3ms/step - loss: 1.4589 - mae: 1.4589 - mse: 5.1787 - val_loss: 2.7822 - val_mae: 2.7822 - val_mse: 13.2375\n",
            "Epoch 75/100\n",
            "21/21 [==============================] - 0s 2ms/step - loss: 1.5094 - mae: 1.5094 - mse: 5.4671 - val_loss: 3.1881 - val_mae: 3.1881 - val_mse: 16.2690\n",
            "Epoch 76/100\n",
            "21/21 [==============================] - 0s 3ms/step - loss: 1.8316 - mae: 1.8316 - mse: 7.0008 - val_loss: 3.0054 - val_mae: 3.0054 - val_mse: 14.0178\n",
            "Epoch 77/100\n",
            "21/21 [==============================] - 0s 3ms/step - loss: 1.5934 - mae: 1.5934 - mse: 5.7647 - val_loss: 2.5071 - val_mae: 2.5071 - val_mse: 10.7736\n",
            "Epoch 78/100\n",
            "21/21 [==============================] - 0s 3ms/step - loss: 1.6599 - mae: 1.6599 - mse: 6.0835 - val_loss: 2.7856 - val_mae: 2.7856 - val_mse: 13.2165\n",
            "Epoch 79/100\n",
            "21/21 [==============================] - 0s 3ms/step - loss: 1.5053 - mae: 1.5053 - mse: 5.4116 - val_loss: 3.1549 - val_mae: 3.1549 - val_mse: 15.9615\n",
            "Epoch 80/100\n",
            "21/21 [==============================] - 1s 27ms/step - loss: 1.7014 - mae: 1.7014 - mse: 6.4080 - val_loss: 2.3426 - val_mae: 2.3426 - val_mse: 10.0456\n",
            "Epoch 81/100\n",
            "21/21 [==============================] - 0s 2ms/step - loss: 1.4130 - mae: 1.4130 - mse: 4.9852 - val_loss: 2.6671 - val_mae: 2.6671 - val_mse: 12.3848\n",
            "Epoch 82/100\n",
            "21/21 [==============================] - 0s 3ms/step - loss: 1.5298 - mae: 1.5298 - mse: 5.4716 - val_loss: 2.3430 - val_mae: 2.3430 - val_mse: 10.0892\n",
            "Epoch 83/100\n",
            "21/21 [==============================] - 1s 27ms/step - loss: 1.5441 - mae: 1.5441 - mse: 5.4350 - val_loss: 2.3397 - val_mae: 2.3397 - val_mse: 9.8179\n",
            "Epoch 84/100\n",
            "21/21 [==============================] - 0s 2ms/step - loss: 1.5113 - mae: 1.5113 - mse: 5.4252 - val_loss: 2.6405 - val_mae: 2.6405 - val_mse: 11.5149\n",
            "Epoch 85/100\n",
            "21/21 [==============================] - 0s 2ms/step - loss: 1.4782 - mae: 1.4782 - mse: 5.2049 - val_loss: 3.3873 - val_mae: 3.3873 - val_mse: 16.7581\n",
            "Epoch 86/100\n",
            "21/21 [==============================] - 0s 4ms/step - loss: 1.9527 - mae: 1.9527 - mse: 7.4849 - val_loss: 2.6574 - val_mae: 2.6574 - val_mse: 12.2793\n",
            "Epoch 87/100\n",
            "21/21 [==============================] - 0s 3ms/step - loss: 1.5041 - mae: 1.5041 - mse: 5.3291 - val_loss: 2.3867 - val_mae: 2.3867 - val_mse: 10.4331\n",
            "Epoch 88/100\n",
            "21/21 [==============================] - 1s 28ms/step - loss: 1.4857 - mae: 1.4857 - mse: 5.2554 - val_loss: 2.3151 - val_mae: 2.3151 - val_mse: 9.6403\n",
            "Epoch 89/100\n",
            "21/21 [==============================] - 0s 3ms/step - loss: 1.4041 - mae: 1.4041 - mse: 4.9014 - val_loss: 2.3381 - val_mae: 2.3381 - val_mse: 10.0667\n",
            "Epoch 90/100\n",
            "21/21 [==============================] - 1s 28ms/step - loss: 1.4106 - mae: 1.4106 - mse: 4.9309 - val_loss: 2.2948 - val_mae: 2.2948 - val_mse: 9.6697\n",
            "Epoch 91/100\n",
            "21/21 [==============================] - 1s 29ms/step - loss: 1.3955 - mae: 1.3955 - mse: 4.7928 - val_loss: 2.2864 - val_mae: 2.2864 - val_mse: 9.5149\n",
            "Epoch 92/100\n",
            "21/21 [==============================] - 0s 2ms/step - loss: 1.4215 - mae: 1.4215 - mse: 4.8800 - val_loss: 2.5312 - val_mae: 2.5312 - val_mse: 11.4043\n",
            "Epoch 93/100\n",
            "21/21 [==============================] - 0s 3ms/step - loss: 1.5473 - mae: 1.5473 - mse: 5.4225 - val_loss: 2.3094 - val_mae: 2.3094 - val_mse: 9.5406\n",
            "Epoch 94/100\n",
            "21/21 [==============================] - 0s 3ms/step - loss: 1.4489 - mae: 1.4489 - mse: 4.9948 - val_loss: 2.4437 - val_mae: 2.4437 - val_mse: 10.2295\n",
            "Epoch 95/100\n",
            "21/21 [==============================] - 0s 2ms/step - loss: 1.5248 - mae: 1.5248 - mse: 5.3843 - val_loss: 2.9428 - val_mae: 2.9428 - val_mse: 13.3663\n",
            "Epoch 96/100\n",
            "21/21 [==============================] - 0s 3ms/step - loss: 1.5406 - mae: 1.5406 - mse: 5.2914 - val_loss: 2.6688 - val_mae: 2.6688 - val_mse: 11.5690\n",
            "Epoch 97/100\n",
            "21/21 [==============================] - 0s 2ms/step - loss: 1.7514 - mae: 1.7514 - mse: 6.3133 - val_loss: 3.6146 - val_mae: 3.6146 - val_mse: 19.4050\n",
            "Epoch 98/100\n",
            "21/21 [==============================] - 1s 29ms/step - loss: 1.6986 - mae: 1.6986 - mse: 6.2531 - val_loss: 2.2701 - val_mae: 2.2701 - val_mse: 9.5164\n",
            "Epoch 99/100\n",
            "21/21 [==============================] - 1s 38ms/step - loss: 1.4037 - mae: 1.4037 - mse: 4.7563 - val_loss: 2.2607 - val_mae: 2.2607 - val_mse: 9.2720\n",
            "Epoch 100/100\n",
            "21/21 [==============================] - 0s 3ms/step - loss: 1.3656 - mae: 1.3656 - mse: 4.6483 - val_loss: 2.6573 - val_mae: 2.6573 - val_mse: 11.4628\n"
          ]
        },
        {
          "output_type": "execute_result",
          "data": {
            "text/plain": [
              "<keras.callbacks.History at 0x7f4b07093a50>"
            ]
          },
          "metadata": {},
          "execution_count": 29
        }
      ]
    },
    {
      "cell_type": "code",
      "source": [
        "#loading our best saved model\n",
        "model_2 = tf.keras.models.load_model(\"model_experiments/model_2/\")\n",
        "model_2.evaluate(test_windows, test_labels)"
      ],
      "metadata": {
        "colab": {
          "base_uri": "https://localhost:8080/"
        },
        "id": "0d4dvUsE1RvW",
        "outputId": "11875435-ed5e-485f-c04c-0ad705918c25"
      },
      "execution_count": null,
      "outputs": [
        {
          "output_type": "stream",
          "name": "stdout",
          "text": [
            "21/21 [==============================] - 0s 1ms/step - loss: 2.2607 - mae: 2.2607 - mse: 9.2721\n"
          ]
        },
        {
          "output_type": "execute_result",
          "data": {
            "text/plain": [
              "[2.2607219219207764, 2.2607219219207764, 9.272050857543945]"
            ]
          },
          "metadata": {},
          "execution_count": 30
        }
      ]
    },
    {
      "cell_type": "code",
      "source": [
        "model_2_preds = make_preds(model_2, test_windows)"
      ],
      "metadata": {
        "id": "q-JzrNCo2WY-"
      },
      "execution_count": null,
      "outputs": []
    },
    {
      "cell_type": "code",
      "source": [
        "model_2_preds"
      ],
      "metadata": {
        "colab": {
          "base_uri": "https://localhost:8080/"
        },
        "id": "L-CAcsX_2iNy",
        "outputId": "d829df26-4b25-480a-e12e-a641a5781822"
      },
      "execution_count": null,
      "outputs": [
        {
          "output_type": "execute_result",
          "data": {
            "text/plain": [
              "<tf.Tensor: shape=(641,), dtype=float32, numpy=\n",
              "array([127.77663 , 127.232635, 123.36849 , 118.27319 , 120.42976 ,\n",
              "       121.23377 , 122.77114 , 123.67827 , 125.091255, 126.473236,\n",
              "       125.66632 , 126.99733 , 126.32432 , 127.93973 , 130.85846 ,\n",
              "       133.59042 , 135.48132 , 135.9872  , 137.80672 , 137.1993  ,\n",
              "       136.42377 , 136.75566 , 135.59879 , 134.2968  , 134.20267 ,\n",
              "       134.29108 , 135.25877 , 138.27757 , 141.52422 , 143.18124 ,\n",
              "       142.90623 , 141.60297 , 140.65382 , 139.56839 , 138.25835 ,\n",
              "       137.28294 , 137.6136  , 136.975   , 135.0429  , 132.16463 ,\n",
              "       130.128   , 129.83318 , 133.06256 , 134.97578 , 136.44728 ,\n",
              "       137.21187 , 137.56418 , 140.05046 , 143.43535 , 145.05186 ,\n",
              "       145.99329 , 146.52217 , 147.40569 , 149.28568 , 150.7361  ,\n",
              "       153.32137 , 154.94981 , 155.77129 , 155.60997 , 151.27385 ,\n",
              "       149.31938 , 149.23604 , 149.20049 , 149.42226 , 149.44937 ,\n",
              "       149.33937 , 148.80867 , 148.85901 , 146.89537 , 146.30824 ,\n",
              "       145.50916 , 145.58467 , 146.24614 , 146.11018 , 146.88234 ,\n",
              "       147.71474 , 147.07198 , 146.60184 , 145.28786 , 144.70573 ,\n",
              "       145.21815 , 146.5712  , 147.89279 , 149.0907  , 149.82187 ,\n",
              "       149.02226 , 149.03358 , 149.35683 , 149.51982 , 149.94676 ,\n",
              "       151.33301 , 149.59096 , 148.62708 , 147.01237 , 144.77    ,\n",
              "       143.76236 , 143.03261 , 144.1114  , 145.12431 , 146.51    ,\n",
              "       148.74944 , 150.75137 , 152.4151  , 154.02853 , 155.12215 ,\n",
              "       155.28822 , 155.27882 , 155.08931 , 154.53304 , 154.24995 ,\n",
              "       154.68492 , 154.79683 , 155.13792 , 155.53413 , 156.25099 ,\n",
              "       155.89838 , 156.15944 , 158.15459 , 158.11903 , 157.90361 ,\n",
              "       157.11143 , 157.17874 , 156.59941 , 156.91077 , 158.23186 ,\n",
              "       158.133   , 159.31488 , 161.16826 , 161.1734  , 158.44438 ,\n",
              "       157.0066  , 155.17534 , 153.90627 , 153.35405 , 153.14943 ,\n",
              "       152.68431 , 152.45207 , 152.00475 , 152.10634 , 153.15941 ,\n",
              "       153.50035 , 155.2577  , 156.96164 , 158.4083  , 159.37373 ,\n",
              "       159.10655 , 159.63524 , 160.18497 , 161.00877 , 161.16447 ,\n",
              "       161.61333 , 161.48804 , 161.74582 , 161.79442 , 160.30107 ,\n",
              "       157.70128 , 155.098   , 153.40462 , 152.73508 , 153.32875 ,\n",
              "       154.65187 , 153.72563 , 154.24547 , 154.83383 , 154.89125 ,\n",
              "       157.24817 , 158.59474 , 158.62102 , 159.89154 , 162.02406 ,\n",
              "       163.22606 , 163.22629 , 163.83908 , 164.69948 , 165.57826 ,\n",
              "       167.2273  , 168.23607 , 168.7856  , 167.82314 , 166.27567 ,\n",
              "       165.85986 , 165.40012 , 165.2512  , 164.44417 , 164.66621 ,\n",
              "       166.04018 , 166.1053  , 166.41216 , 166.39308 , 166.77315 ,\n",
              "       167.45096 , 168.11844 , 168.57329 , 168.54474 , 168.29008 ,\n",
              "       167.81306 , 167.66702 , 167.6212  , 167.23564 , 167.11745 ,\n",
              "       167.31532 , 166.38995 , 165.6826  , 166.25012 , 164.91322 ,\n",
              "       162.91669 , 161.35574 , 160.58965 , 160.12485 , 159.75331 ,\n",
              "       159.32347 , 160.30136 , 161.47554 , 162.2235  , 162.3179  ,\n",
              "       162.75319 , 165.10477 , 170.26682 , 172.46844 , 170.98227 ,\n",
              "       170.16426 , 169.55794 , 169.0969  , 169.31737 , 169.9886  ,\n",
              "       171.13799 , 172.07962 , 172.74507 , 172.37251 , 172.58096 ,\n",
              "       172.06697 , 171.48497 , 172.2867  , 171.62984 , 171.04785 ,\n",
              "       170.91914 , 171.12735 , 171.80751 , 170.84161 , 170.69269 ,\n",
              "       171.04547 , 171.34795 , 171.57152 , 172.71153 , 174.6313  ,\n",
              "       174.85674 , 176.22798 , 177.30013 , 177.79306 , 180.00584 ,\n",
              "       180.32512 , 180.91481 , 182.59555 , 182.51503 , 182.83723 ,\n",
              "       182.73795 , 183.24991 , 184.66835 , 185.98515 , 187.25218 ,\n",
              "       187.68806 , 187.29233 , 187.06795 , 187.67128 , 187.92561 ,\n",
              "       188.06549 , 188.53812 , 189.61073 , 190.30627 , 190.20085 ,\n",
              "       190.30211 , 190.60307 , 191.13406 , 191.4872  , 191.56197 ,\n",
              "       192.58064 , 193.27153 , 194.07256 , 193.82692 , 191.65984 ,\n",
              "       190.92926 , 191.54436 , 191.02722 , 191.28398 , 191.87889 ,\n",
              "       192.85445 , 194.05531 , 194.91393 , 197.04668 , 197.17232 ,\n",
              "       195.3531  , 196.05534 , 196.70213 , 197.11235 , 196.91965 ,\n",
              "       196.4272  , 196.54301 , 196.58635 , 196.85298 , 196.70012 ,\n",
              "       196.52425 , 197.10622 , 197.35924 , 197.54211 , 197.77531 ,\n",
              "       197.99083 , 199.03062 , 198.86569 , 198.60202 , 198.33415 ,\n",
              "       198.08699 , 197.94414 , 197.20686 , 196.50792 , 194.76779 ,\n",
              "       192.94466 , 190.62387 , 190.22917 , 190.14983 , 188.81146 ,\n",
              "       188.59357 , 188.9871  , 189.81033 , 190.28004 , 191.41618 ,\n",
              "       192.45836 , 193.28694 , 192.90318 , 193.54512 , 193.5842  ,\n",
              "       194.24086 , 194.63084 , 194.39232 , 195.69933 , 196.33513 ,\n",
              "       195.51491 , 194.47913 , 194.9207  , 195.17581 , 194.58209 ,\n",
              "       194.85243 , 195.43172 , 195.35272 , 194.58246 , 194.02187 ,\n",
              "       193.58922 , 193.0956  , 194.04906 , 193.43266 , 192.99126 ,\n",
              "       193.18953 , 192.7451  , 193.27557 , 194.41196 , 195.01228 ,\n",
              "       195.18272 , 195.96281 , 195.47423 , 193.95602 , 192.7042  ,\n",
              "       191.83867 , 191.46635 , 191.23204 , 190.94185 , 191.17577 ,\n",
              "       191.29732 , 191.73155 , 191.58144 , 190.90013 , 191.10893 ,\n",
              "       190.99644 , 187.6826  , 186.38643 , 185.03249 , 183.18651 ,\n",
              "       182.71904 , 181.1244  , 180.82838 , 180.33482 , 179.31409 ,\n",
              "       178.59804 , 177.22871 , 176.90181 , 177.36348 , 177.34674 ,\n",
              "       177.7111  , 177.3938  , 177.41444 , 175.62895 , 174.66673 ,\n",
              "       174.12767 , 174.01947 , 174.45958 , 174.32341 , 174.10909 ,\n",
              "       173.75137 , 173.24086 , 173.47865 , 174.76163 , 176.11748 ,\n",
              "       176.94704 , 177.76802 , 178.38036 , 178.61348 , 178.2862  ,\n",
              "       178.56996 , 178.70296 , 177.2519  , 176.98778 , 176.46567 ,\n",
              "       176.20625 , 177.16655 , 177.68083 , 177.51555 , 177.92543 ,\n",
              "       178.11131 , 178.04517 , 178.4853  , 177.886   , 178.70494 ,\n",
              "       179.29648 , 179.39519 , 179.754   , 178.68666 , 178.20845 ,\n",
              "       178.14635 , 177.80812 , 177.04306 , 175.7369  , 175.21346 ,\n",
              "       172.65755 , 171.08675 , 170.21764 , 170.08467 , 172.01956 ,\n",
              "       172.88068 , 173.3093  , 173.81538 , 174.4171  , 173.94313 ,\n",
              "       173.53142 , 173.75732 , 174.65472 , 174.05254 , 172.77492 ,\n",
              "       172.28682 , 171.70284 , 172.17448 , 173.1335  , 173.98817 ,\n",
              "       174.98567 , 175.36533 , 175.59932 , 175.82848 , 176.77167 ,\n",
              "       177.14006 , 176.71436 , 177.29582 , 176.71213 , 176.77698 ,\n",
              "       177.20679 , 177.75757 , 177.52203 , 177.04927 , 177.00233 ,\n",
              "       175.04454 , 173.43214 , 172.5813  , 172.12395 , 170.37173 ,\n",
              "       169.44017 , 166.55092 , 165.41612 , 165.70482 , 165.00926 ,\n",
              "       164.14304 , 162.18723 , 161.15398 , 161.03647 , 161.20451 ,\n",
              "       159.97952 , 159.07115 , 158.17986 , 157.14142 , 156.01532 ,\n",
              "       153.11462 , 150.9128  , 149.31459 , 147.19316 , 145.71017 ,\n",
              "       147.25682 , 147.64806 , 146.31465 , 146.79018 , 147.35457 ,\n",
              "       147.03827 , 145.68517 , 145.46777 , 145.89711 , 145.01817 ,\n",
              "       143.46448 , 143.40173 , 143.70006 , 144.1986  , 145.4691  ,\n",
              "       146.44133 , 147.2411  , 148.33656 , 148.16159 , 148.44711 ,\n",
              "       149.3062  , 149.25905 , 150.27827 , 150.7538  , 149.94899 ,\n",
              "       149.93777 , 149.79831 , 149.35179 , 149.6768  , 149.70085 ,\n",
              "       149.63158 , 149.83302 , 149.32387 , 149.02922 , 148.43556 ,\n",
              "       147.48085 , 148.39804 , 149.15663 , 149.9313  , 149.74582 ,\n",
              "       149.23851 , 147.53752 , 146.18495 , 146.55983 , 145.47395 ,\n",
              "       145.40977 , 146.43599 , 149.10416 , 149.36841 , 149.27464 ,\n",
              "       150.74171 , 150.08493 , 148.73344 , 149.10014 , 149.06662 ,\n",
              "       149.41566 , 150.53125 , 149.82591 , 148.74463 , 147.05838 ,\n",
              "       145.9268  , 145.8329  , 145.5797  , 145.95586 , 147.19896 ,\n",
              "       147.9326  , 147.38689 , 147.73042 , 147.17284 , 146.66942 ,\n",
              "       146.8186  , 146.12645 , 145.33983 , 142.4947  , 140.06343 ,\n",
              "       138.31844 , 136.51845 , 134.28784 , 132.35936 , 131.35408 ,\n",
              "       130.80461 , 130.42519 , 131.71606 , 132.10423 , 131.31244 ,\n",
              "       130.89311 , 130.3323  , 129.6162  , 129.39778 , 129.46019 ,\n",
              "       129.55989 , 129.2234  , 129.09995 , 129.52464 , 129.05922 ,\n",
              "       128.72032 , 129.26305 , 129.06227 , 130.11765 , 131.26537 ,\n",
              "       132.11787 , 132.9877  , 133.41837 , 136.17819 , 137.30898 ,\n",
              "       138.28375 , 140.41463 , 141.46263 , 141.69203 , 142.45598 ,\n",
              "       144.59436 , 145.65176 , 146.65034 , 147.25027 , 147.99956 ,\n",
              "       148.77647 , 150.00264 , 150.5966  , 150.39851 , 149.41016 ,\n",
              "       148.36479 , 147.2169  , 144.99252 , 143.64192 , 142.5681  ,\n",
              "       142.37004 , 137.46446 , 133.02089 , 130.23242 , 127.50554 ,\n",
              "       126.60232 , 124.38953 , 121.16401 , 120.885376, 120.238304,\n",
              "       120.94705 , 122.2509  , 121.33942 , 120.02874 , 118.81023 ,\n",
              "       117.950455, 117.3884  , 116.89424 , 115.9896  , 115.20973 ,\n",
              "       114.38594 , 113.784935, 113.23796 , 113.49383 , 113.03218 ,\n",
              "       111.963745], dtype=float32)>"
            ]
          },
          "metadata": {},
          "execution_count": 32
        }
      ]
    },
    {
      "cell_type": "markdown",
      "source": [
        "# Model:3 (LSTM Model)"
      ],
      "metadata": {
        "id": "AP-qGJINFHEY"
      }
    },
    {
      "cell_type": "markdown",
      "source": [
        "Now we will create a transfer learning model namely Long Short Term Memory model, using Functional API."
      ],
      "metadata": {
        "id": "j9C1u2rWFONw"
      }
    },
    {
      "cell_type": "code",
      "source": [
        "tf.random.set_seed(42)"
      ],
      "metadata": {
        "id": "Jug0l6uz2mCI"
      },
      "execution_count": null,
      "outputs": []
    },
    {
      "cell_type": "code",
      "source": [
        "inputs = layers.Input(shape = (WINDOW_SIZE))\n",
        "x = layers.Lambda(lambda x :tf.expand_dims(x, axis = 1))(inputs)\n",
        "x = layers.LSTM(128,activation = \"relu\")(x)\n",
        "outputs = layers.Dense(HORIZON)(x)"
      ],
      "metadata": {
        "id": "7hq6i9_nFfsh"
      },
      "execution_count": null,
      "outputs": []
    },
    {
      "cell_type": "code",
      "source": [
        "model_3 = tf.keras.Model(inputs,outputs, name = \"model_3\")"
      ],
      "metadata": {
        "id": "MWd_MhefGB-5"
      },
      "execution_count": null,
      "outputs": []
    },
    {
      "cell_type": "code",
      "source": [
        "model_3.compile(loss = \"mae\", optimizer = tf.keras.optimizers.Adam(), metrics = [\"mae\",\"mse\"])"
      ],
      "metadata": {
        "id": "etPVrA03GG1N"
      },
      "execution_count": null,
      "outputs": []
    },
    {
      "cell_type": "code",
      "source": [
        "model_3.fit(x = train_windows, y =  train_labels, epochs = 100, batch_size = 128, validation_data = (test_windows,test_labels),\n",
        "            callbacks = [create_model_checkpoint(model_name = model_3.name)])"
      ],
      "metadata": {
        "colab": {
          "base_uri": "https://localhost:8080/"
        },
        "id": "72o2IL5mGRxt",
        "outputId": "6f58ddc2-e3ec-46e4-a0bf-3fe80b9bde5d"
      },
      "execution_count": null,
      "outputs": [
        {
          "output_type": "stream",
          "name": "stdout",
          "text": [
            "Epoch 1/100\n",
            "16/21 [=====================>........] - ETA: 0s - loss: 1.6283 - mae: 1.6283 - mse: 5.4765 "
          ]
        },
        {
          "output_type": "stream",
          "name": "stderr",
          "text": [
            "WARNING:absl:<keras.layers.recurrent.LSTMCell object at 0x7f4b06cff610> has the same name 'LSTMCell' as a built-in Keras object. Consider renaming <class 'keras.layers.recurrent.LSTMCell'> to avoid naming conflicts when loading with `tf.keras.models.load_model`. If renaming is not possible, pass the object in the `custom_objects` parameter of the load function.\n"
          ]
        },
        {
          "output_type": "stream",
          "name": "stdout",
          "text": [
            "\b\b\b\b\b\b\b\b\b\b\b\b\b\b\b\b\b\b\b\b\b\b\b\b\b\b\b\b\b\b\b\b\b\b\b\b\b\b\b\b\b\b\b\b\b\b\b\b\b\b\b\b\b\b\b\b\b\b\b\b\b\b\b\b\b\b\b\b\b\b\b\b\b\b\b\b\b\b\b\b\b\b\b\b\b\b\b\b\b\b\b\r21/21 [==============================] - 3s 87ms/step - loss: 1.6230 - mae: 1.6230 - mse: 5.8991 - val_loss: 2.4438 - val_mae: 2.4438 - val_mse: 10.2929\n",
            "Epoch 2/100\n",
            "21/21 [==============================] - 0s 5ms/step - loss: 1.4483 - mae: 1.4483 - mse: 5.0196 - val_loss: 2.4817 - val_mae: 2.4817 - val_mse: 11.1281\n",
            "Epoch 3/100\n",
            "16/21 [=====================>........] - ETA: 0s - loss: 1.4801 - mae: 1.4801 - mse: 5.1843"
          ]
        },
        {
          "output_type": "stream",
          "name": "stderr",
          "text": [
            "WARNING:absl:<keras.layers.recurrent.LSTMCell object at 0x7f4b06cff610> has the same name 'LSTMCell' as a built-in Keras object. Consider renaming <class 'keras.layers.recurrent.LSTMCell'> to avoid naming conflicts when loading with `tf.keras.models.load_model`. If renaming is not possible, pass the object in the `custom_objects` parameter of the load function.\n"
          ]
        },
        {
          "output_type": "stream",
          "name": "stdout",
          "text": [
            "\b\b\b\b\b\b\b\b\b\b\b\b\b\b\b\b\b\b\b\b\b\b\b\b\b\b\b\b\b\b\b\b\b\b\b\b\b\b\b\b\b\b\b\b\b\b\b\b\b\b\b\b\b\b\b\b\b\b\b\b\b\b\b\b\b\b\b\b\b\b\b\b\b\b\b\b\b\b\b\b\b\b\b\b\b\b\b\b\b\b\b\r21/21 [==============================] - 2s 85ms/step - loss: 1.4889 - mae: 1.4889 - mse: 5.3001 - val_loss: 2.3995 - val_mae: 2.3995 - val_mse: 10.0332\n",
            "Epoch 4/100\n",
            "14/21 [===================>..........] - ETA: 0s - loss: 1.5019 - mae: 1.5019 - mse: 5.0807"
          ]
        },
        {
          "output_type": "stream",
          "name": "stderr",
          "text": [
            "WARNING:absl:<keras.layers.recurrent.LSTMCell object at 0x7f4b06cff610> has the same name 'LSTMCell' as a built-in Keras object. Consider renaming <class 'keras.layers.recurrent.LSTMCell'> to avoid naming conflicts when loading with `tf.keras.models.load_model`. If renaming is not possible, pass the object in the `custom_objects` parameter of the load function.\n"
          ]
        },
        {
          "output_type": "stream",
          "name": "stdout",
          "text": [
            "\b\b\b\b\b\b\b\b\b\b\b\b\b\b\b\b\b\b\b\b\b\b\b\b\b\b\b\b\b\b\b\b\b\b\b\b\b\b\b\b\b\b\b\b\b\b\b\b\b\b\b\b\b\b\b\b\b\b\b\b\b\b\b\b\b\b\b\b\b\b\b\b\b\b\b\b\b\b\b\b\b\b\b\b\b\b\b\b\b\b\b\r21/21 [==============================] - 2s 76ms/step - loss: 1.4801 - mae: 1.4801 - mse: 5.0833 - val_loss: 2.3020 - val_mae: 2.3020 - val_mse: 9.5414\n",
            "Epoch 5/100\n",
            "17/21 [=======================>......] - ETA: 0s - loss: 1.4116 - mae: 1.4116 - mse: 4.8793"
          ]
        },
        {
          "output_type": "stream",
          "name": "stderr",
          "text": [
            "WARNING:absl:<keras.layers.recurrent.LSTMCell object at 0x7f4b06cff610> has the same name 'LSTMCell' as a built-in Keras object. Consider renaming <class 'keras.layers.recurrent.LSTMCell'> to avoid naming conflicts when loading with `tf.keras.models.load_model`. If renaming is not possible, pass the object in the `custom_objects` parameter of the load function.\n"
          ]
        },
        {
          "output_type": "stream",
          "name": "stdout",
          "text": [
            "\b\b\b\b\b\b\b\b\b\b\b\b\b\b\b\b\b\b\b\b\b\b\b\b\b\b\b\b\b\b\b\b\b\b\b\b\b\b\b\b\b\b\b\b\b\b\b\b\b\b\b\b\b\b\b\b\b\b\b\b\b\b\b\b\b\b\b\b\b\b\b\b\b\b\b\b\b\b\b\b\b\b\b\b\b\b\b\b\b\b\b\r21/21 [==============================] - 2s 75ms/step - loss: 1.3980 - mae: 1.3980 - mse: 4.8276 - val_loss: 2.2983 - val_mae: 2.2983 - val_mse: 9.7786\n",
            "Epoch 6/100\n",
            "21/21 [==============================] - 0s 5ms/step - loss: 1.3944 - mae: 1.3944 - mse: 4.8315 - val_loss: 2.3966 - val_mae: 2.3966 - val_mse: 10.5269\n",
            "Epoch 7/100\n",
            "21/21 [==============================] - 0s 5ms/step - loss: 1.4116 - mae: 1.4116 - mse: 4.8506 - val_loss: 2.3275 - val_mae: 2.3275 - val_mse: 10.0122\n",
            "Epoch 8/100\n",
            "21/21 [==============================] - 0s 5ms/step - loss: 1.4064 - mae: 1.4064 - mse: 4.8004 - val_loss: 2.6677 - val_mae: 2.6677 - val_mse: 11.5927\n",
            "Epoch 9/100\n",
            "21/21 [==============================] - 0s 5ms/step - loss: 1.5107 - mae: 1.5107 - mse: 5.2576 - val_loss: 2.3353 - val_mae: 2.3353 - val_mse: 10.0688\n",
            "Epoch 10/100\n",
            "21/21 [==============================] - 0s 5ms/step - loss: 1.4023 - mae: 1.4023 - mse: 4.8651 - val_loss: 2.8781 - val_mae: 2.8781 - val_mse: 12.9328\n",
            "Epoch 11/100\n",
            "15/21 [====================>.........] - ETA: 0s - loss: 1.6642 - mae: 1.6642 - mse: 5.9258"
          ]
        },
        {
          "output_type": "stream",
          "name": "stderr",
          "text": [
            "WARNING:absl:<keras.layers.recurrent.LSTMCell object at 0x7f4b06cff610> has the same name 'LSTMCell' as a built-in Keras object. Consider renaming <class 'keras.layers.recurrent.LSTMCell'> to avoid naming conflicts when loading with `tf.keras.models.load_model`. If renaming is not possible, pass the object in the `custom_objects` parameter of the load function.\n"
          ]
        },
        {
          "output_type": "stream",
          "name": "stdout",
          "text": [
            "\b\b\b\b\b\b\b\b\b\b\b\b\b\b\b\b\b\b\b\b\b\b\b\b\b\b\b\b\b\b\b\b\b\b\b\b\b\b\b\b\b\b\b\b\b\b\b\b\b\b\b\b\b\b\b\b\b\b\b\b\b\b\b\b\b\b\b\b\b\b\b\b\b\b\b\b\b\b\b\b\b\b\b\b\b\b\b\b\b\b\b\r21/21 [==============================] - 2s 89ms/step - loss: 1.5874 - mae: 1.5874 - mse: 5.5281 - val_loss: 2.2717 - val_mae: 2.2717 - val_mse: 9.3452\n",
            "Epoch 12/100\n",
            "21/21 [==============================] - 0s 5ms/step - loss: 1.3725 - mae: 1.3725 - mse: 4.6178 - val_loss: 2.6601 - val_mae: 2.6601 - val_mse: 12.2225\n",
            "Epoch 13/100\n",
            "15/21 [====================>.........] - ETA: 0s - loss: 1.4780 - mae: 1.4780 - mse: 5.2446"
          ]
        },
        {
          "output_type": "stream",
          "name": "stderr",
          "text": [
            "WARNING:absl:<keras.layers.recurrent.LSTMCell object at 0x7f4b06cff610> has the same name 'LSTMCell' as a built-in Keras object. Consider renaming <class 'keras.layers.recurrent.LSTMCell'> to avoid naming conflicts when loading with `tf.keras.models.load_model`. If renaming is not possible, pass the object in the `custom_objects` parameter of the load function.\n"
          ]
        },
        {
          "output_type": "stream",
          "name": "stdout",
          "text": [
            "\b\b\b\b\b\b\b\b\b\b\b\b\b\b\b\b\b\b\b\b\b\b\b\b\b\b\b\b\b\b\b\b\b\b\b\b\b\b\b\b\b\b\b\b\b\b\b\b\b\b\b\b\b\b\b\b\b\b\b\b\b\b\b\b\b\b\b\b\b\b\b\b\b\b\b\b\b\b\b\b\b\b\b\b\b\b\b\b\b\b\b\r21/21 [==============================] - 2s 78ms/step - loss: 1.4487 - mae: 1.4487 - mse: 4.9635 - val_loss: 2.2494 - val_mae: 2.2494 - val_mse: 9.2884\n",
            "Epoch 14/100\n",
            "21/21 [==============================] - 0s 4ms/step - loss: 1.3665 - mae: 1.3665 - mse: 4.6158 - val_loss: 2.6318 - val_mae: 2.6318 - val_mse: 11.2968\n",
            "Epoch 15/100\n",
            "21/21 [==============================] - 0s 5ms/step - loss: 1.5429 - mae: 1.5429 - mse: 5.1544 - val_loss: 2.7859 - val_mae: 2.7859 - val_mse: 13.0521\n",
            "Epoch 16/100\n",
            "21/21 [==============================] - 0s 5ms/step - loss: 1.4964 - mae: 1.4964 - mse: 5.1622 - val_loss: 2.4797 - val_mae: 2.4797 - val_mse: 10.3908\n",
            "Epoch 17/100\n",
            "21/21 [==============================] - 0s 5ms/step - loss: 1.4285 - mae: 1.4285 - mse: 4.8298 - val_loss: 2.3801 - val_mae: 2.3801 - val_mse: 9.8294\n",
            "Epoch 18/100\n",
            "21/21 [==============================] - 0s 5ms/step - loss: 1.5371 - mae: 1.5371 - mse: 5.1582 - val_loss: 3.1575 - val_mae: 3.1575 - val_mse: 15.7163\n",
            "Epoch 19/100\n",
            "21/21 [==============================] - 0s 5ms/step - loss: 1.6785 - mae: 1.6785 - mse: 6.3317 - val_loss: 2.8039 - val_mae: 2.8039 - val_mse: 13.1601\n",
            "Epoch 20/100\n",
            "13/21 [=================>............] - ETA: 0s - loss: 1.5598 - mae: 1.5598 - mse: 5.6324"
          ]
        },
        {
          "output_type": "stream",
          "name": "stderr",
          "text": [
            "WARNING:absl:<keras.layers.recurrent.LSTMCell object at 0x7f4b06cff610> has the same name 'LSTMCell' as a built-in Keras object. Consider renaming <class 'keras.layers.recurrent.LSTMCell'> to avoid naming conflicts when loading with `tf.keras.models.load_model`. If renaming is not possible, pass the object in the `custom_objects` parameter of the load function.\n"
          ]
        },
        {
          "output_type": "stream",
          "name": "stdout",
          "text": [
            "\b\b\b\b\b\b\b\b\b\b\b\b\b\b\b\b\b\b\b\b\b\b\b\b\b\b\b\b\b\b\b\b\b\b\b\b\b\b\b\b\b\b\b\b\b\b\b\b\b\b\b\b\b\b\b\b\b\b\b\b\b\b\b\b\b\b\b\b\b\b\b\b\b\b\b\b\b\b\b\b\b\b\b\b\b\b\b\b\b\b\b\r21/21 [==============================] - 2s 76ms/step - loss: 1.4992 - mae: 1.4992 - mse: 5.2540 - val_loss: 2.2321 - val_mae: 2.2321 - val_mse: 9.2012\n",
            "Epoch 21/100\n",
            "21/21 [==============================] - 0s 5ms/step - loss: 1.3422 - mae: 1.3422 - mse: 4.5210 - val_loss: 2.2808 - val_mae: 2.2808 - val_mse: 9.2952\n",
            "Epoch 22/100\n",
            "21/21 [==============================] - 0s 4ms/step - loss: 1.3904 - mae: 1.3904 - mse: 4.6167 - val_loss: 2.2841 - val_mae: 2.2841 - val_mse: 9.6794\n",
            "Epoch 23/100\n",
            "21/21 [==============================] - 0s 5ms/step - loss: 1.3441 - mae: 1.3441 - mse: 4.5088 - val_loss: 2.3936 - val_mae: 2.3936 - val_mse: 10.4498\n",
            "Epoch 24/100\n",
            "16/21 [=====================>........] - ETA: 0s - loss: 1.3880 - mae: 1.3880 - mse: 4.5016"
          ]
        },
        {
          "output_type": "stream",
          "name": "stderr",
          "text": [
            "WARNING:absl:<keras.layers.recurrent.LSTMCell object at 0x7f4b06cff610> has the same name 'LSTMCell' as a built-in Keras object. Consider renaming <class 'keras.layers.recurrent.LSTMCell'> to avoid naming conflicts when loading with `tf.keras.models.load_model`. If renaming is not possible, pass the object in the `custom_objects` parameter of the load function.\n"
          ]
        },
        {
          "output_type": "stream",
          "name": "stdout",
          "text": [
            "\b\b\b\b\b\b\b\b\b\b\b\b\b\b\b\b\b\b\b\b\b\b\b\b\b\b\b\b\b\b\b\b\b\b\b\b\b\b\b\b\b\b\b\b\b\b\b\b\b\b\b\b\b\b\b\b\b\b\b\b\b\b\b\b\b\b\b\b\b\b\b\b\b\b\b\b\b\b\b\b\b\b\b\b\b\b\b\b\b\b\b\r21/21 [==============================] - 2s 75ms/step - loss: 1.3786 - mae: 1.3786 - mse: 4.5958 - val_loss: 2.2201 - val_mae: 2.2201 - val_mse: 9.1170\n",
            "Epoch 25/100\n",
            "15/21 [====================>.........] - ETA: 0s - loss: 1.3348 - mae: 1.3348 - mse: 4.4793"
          ]
        },
        {
          "output_type": "stream",
          "name": "stderr",
          "text": [
            "WARNING:absl:<keras.layers.recurrent.LSTMCell object at 0x7f4b06cff610> has the same name 'LSTMCell' as a built-in Keras object. Consider renaming <class 'keras.layers.recurrent.LSTMCell'> to avoid naming conflicts when loading with `tf.keras.models.load_model`. If renaming is not possible, pass the object in the `custom_objects` parameter of the load function.\n"
          ]
        },
        {
          "output_type": "stream",
          "name": "stdout",
          "text": [
            "\b\b\b\b\b\b\b\b\b\b\b\b\b\b\b\b\b\b\b\b\b\b\b\b\b\b\b\b\b\b\b\b\b\b\b\b\b\b\b\b\b\b\b\b\b\b\b\b\b\b\b\b\b\b\b\b\b\b\b\b\b\b\b\b\b\b\b\b\b\b\b\b\b\b\b\b\b\b\b\b\b\b\b\b\b\b\b\b\b\b\b\r21/21 [==============================] - 2s 91ms/step - loss: 1.3357 - mae: 1.3357 - mse: 4.4336 - val_loss: 2.2171 - val_mae: 2.2171 - val_mse: 9.0272\n",
            "Epoch 26/100\n",
            "21/21 [==============================] - 0s 5ms/step - loss: 1.3562 - mae: 1.3562 - mse: 4.4815 - val_loss: 2.6187 - val_mae: 2.6187 - val_mse: 11.8856\n",
            "Epoch 27/100\n",
            "21/21 [==============================] - 0s 5ms/step - loss: 1.4275 - mae: 1.4275 - mse: 4.8708 - val_loss: 2.3296 - val_mae: 2.3296 - val_mse: 9.4918\n",
            "Epoch 28/100\n",
            "21/21 [==============================] - 0s 4ms/step - loss: 1.3591 - mae: 1.3591 - mse: 4.5204 - val_loss: 2.4196 - val_mae: 2.4196 - val_mse: 10.6034\n",
            "Epoch 29/100\n",
            "21/21 [==============================] - 0s 4ms/step - loss: 1.5017 - mae: 1.5017 - mse: 5.1408 - val_loss: 3.1144 - val_mae: 3.1144 - val_mse: 15.3074\n",
            "Epoch 30/100\n",
            "21/21 [==============================] - 0s 5ms/step - loss: 1.6164 - mae: 1.6164 - mse: 5.7013 - val_loss: 2.6687 - val_mae: 2.6687 - val_mse: 11.4565\n",
            "Epoch 31/100\n",
            "14/21 [===================>..........] - ETA: 0s - loss: 1.8574 - mae: 1.8574 - mse: 6.4583"
          ]
        },
        {
          "output_type": "stream",
          "name": "stderr",
          "text": [
            "WARNING:absl:<keras.layers.recurrent.LSTMCell object at 0x7f4b06cff610> has the same name 'LSTMCell' as a built-in Keras object. Consider renaming <class 'keras.layers.recurrent.LSTMCell'> to avoid naming conflicts when loading with `tf.keras.models.load_model`. If renaming is not possible, pass the object in the `custom_objects` parameter of the load function.\n"
          ]
        },
        {
          "output_type": "stream",
          "name": "stdout",
          "text": [
            "\b\b\b\b\b\b\b\b\b\b\b\b\b\b\b\b\b\b\b\b\b\b\b\b\b\b\b\b\b\b\b\b\b\b\b\b\b\b\b\b\b\b\b\b\b\b\b\b\b\b\b\b\b\b\b\b\b\b\b\b\b\b\b\b\b\b\b\b\b\b\b\b\b\b\b\b\b\b\b\b\b\b\b\b\b\b\b\b\b\b\b\r21/21 [==============================] - 2s 76ms/step - loss: 1.7335 - mae: 1.7335 - mse: 6.2850 - val_loss: 2.1998 - val_mae: 2.1998 - val_mse: 8.9314\n",
            "Epoch 32/100\n",
            "21/21 [==============================] - 0s 5ms/step - loss: 1.3800 - mae: 1.3800 - mse: 4.5575 - val_loss: 2.9645 - val_mae: 2.9645 - val_mse: 14.1979\n",
            "Epoch 33/100\n",
            "21/21 [==============================] - 0s 5ms/step - loss: 1.5335 - mae: 1.5335 - mse: 5.3423 - val_loss: 2.3571 - val_mae: 2.3571 - val_mse: 9.6071\n",
            "Epoch 34/100\n",
            "21/21 [==============================] - 0s 10ms/step - loss: 1.4845 - mae: 1.4845 - mse: 5.0247 - val_loss: 2.2037 - val_mae: 2.2037 - val_mse: 8.8711\n",
            "Epoch 35/100\n",
            "21/21 [==============================] - 0s 12ms/step - loss: 1.3216 - mae: 1.3216 - mse: 4.3265 - val_loss: 2.3976 - val_mae: 2.3976 - val_mse: 10.4338\n",
            "Epoch 36/100\n",
            "21/21 [==============================] - 0s 8ms/step - loss: 1.5090 - mae: 1.5090 - mse: 5.1388 - val_loss: 2.2037 - val_mae: 2.2037 - val_mse: 8.8538\n",
            "Epoch 37/100\n",
            "15/21 [====================>.........] - ETA: 0s - loss: 1.3930 - mae: 1.3930 - mse: 4.6006"
          ]
        },
        {
          "output_type": "stream",
          "name": "stderr",
          "text": [
            "WARNING:absl:<keras.layers.recurrent.LSTMCell object at 0x7f4b06cff610> has the same name 'LSTMCell' as a built-in Keras object. Consider renaming <class 'keras.layers.recurrent.LSTMCell'> to avoid naming conflicts when loading with `tf.keras.models.load_model`. If renaming is not possible, pass the object in the `custom_objects` parameter of the load function.\n"
          ]
        },
        {
          "output_type": "stream",
          "name": "stdout",
          "text": [
            "\b\b\b\b\b\b\b\b\b\b\b\b\b\b\b\b\b\b\b\b\b\b\b\b\b\b\b\b\b\b\b\b\b\b\b\b\b\b\b\b\b\b\b\b\b\b\b\b\b\b\b\b\b\b\b\b\b\b\b\b\b\b\b\b\b\b\b\b\b\b\b\b\b\b\b\b\b\b\b\b\b\b\b\b\b\b\b\b\b\b\b\r21/21 [==============================] - 2s 76ms/step - loss: 1.3541 - mae: 1.3541 - mse: 4.4637 - val_loss: 2.1960 - val_mae: 2.1960 - val_mse: 8.8121\n",
            "Epoch 38/100\n",
            "21/21 [==============================] - 0s 5ms/step - loss: 1.3326 - mae: 1.3326 - mse: 4.3948 - val_loss: 2.2260 - val_mae: 2.2260 - val_mse: 9.2367\n",
            "Epoch 39/100\n",
            "21/21 [==============================] - 0s 4ms/step - loss: 1.3140 - mae: 1.3140 - mse: 4.3044 - val_loss: 2.6230 - val_mae: 2.6230 - val_mse: 11.1305\n",
            "Epoch 40/100\n",
            "16/21 [=====================>........] - ETA: 0s - loss: 1.5670 - mae: 1.5670 - mse: 5.2947"
          ]
        },
        {
          "output_type": "stream",
          "name": "stderr",
          "text": [
            "WARNING:absl:<keras.layers.recurrent.LSTMCell object at 0x7f4b06cff610> has the same name 'LSTMCell' as a built-in Keras object. Consider renaming <class 'keras.layers.recurrent.LSTMCell'> to avoid naming conflicts when loading with `tf.keras.models.load_model`. If renaming is not possible, pass the object in the `custom_objects` parameter of the load function.\n"
          ]
        },
        {
          "output_type": "stream",
          "name": "stdout",
          "text": [
            "\b\b\b\b\b\b\b\b\b\b\b\b\b\b\b\b\b\b\b\b\b\b\b\b\b\b\b\b\b\b\b\b\b\b\b\b\b\b\b\b\b\b\b\b\b\b\b\b\b\b\b\b\b\b\b\b\b\b\b\b\b\b\b\b\b\b\b\b\b\b\b\b\b\b\b\b\b\b\b\b\b\b\b\b\b\b\b\b\b\b\b\r21/21 [==============================] - 2s 89ms/step - loss: 1.5471 - mae: 1.5471 - mse: 5.2194 - val_loss: 2.1891 - val_mae: 2.1891 - val_mse: 8.7655\n",
            "Epoch 41/100\n",
            "21/21 [==============================] - 0s 5ms/step - loss: 1.3197 - mae: 1.3197 - mse: 4.3367 - val_loss: 2.7266 - val_mae: 2.7266 - val_mse: 11.7654\n",
            "Epoch 42/100\n",
            "14/21 [===================>..........] - ETA: 0s - loss: 1.6364 - mae: 1.6364 - mse: 5.6538"
          ]
        },
        {
          "output_type": "stream",
          "name": "stderr",
          "text": [
            "WARNING:absl:<keras.layers.recurrent.LSTMCell object at 0x7f4b06cff610> has the same name 'LSTMCell' as a built-in Keras object. Consider renaming <class 'keras.layers.recurrent.LSTMCell'> to avoid naming conflicts when loading with `tf.keras.models.load_model`. If renaming is not possible, pass the object in the `custom_objects` parameter of the load function.\n"
          ]
        },
        {
          "output_type": "stream",
          "name": "stdout",
          "text": [
            "\b\b\b\b\b\b\b\b\b\b\b\b\b\b\b\b\b\b\b\b\b\b\b\b\b\b\b\b\b\b\b\b\b\b\b\b\b\b\b\b\b\b\b\b\b\b\b\b\b\b\b\b\b\b\b\b\b\b\b\b\b\b\b\b\b\b\b\b\b\b\b\b\b\b\b\b\b\b\b\b\b\b\b\b\b\b\b\b\b\b\b\r21/21 [==============================] - 2s 78ms/step - loss: 1.5381 - mae: 1.5381 - mse: 5.1655 - val_loss: 2.1757 - val_mae: 2.1757 - val_mse: 8.8045\n",
            "Epoch 43/100\n",
            "21/21 [==============================] - 0s 5ms/step - loss: 1.3186 - mae: 1.3186 - mse: 4.3404 - val_loss: 2.3981 - val_mae: 2.3981 - val_mse: 9.7825\n",
            "Epoch 44/100\n",
            "21/21 [==============================] - 0s 5ms/step - loss: 1.5518 - mae: 1.5518 - mse: 5.0904 - val_loss: 2.2622 - val_mae: 2.2622 - val_mse: 9.5014\n",
            "Epoch 45/100\n",
            "21/21 [==============================] - 0s 5ms/step - loss: 1.4551 - mae: 1.4551 - mse: 4.9069 - val_loss: 2.2223 - val_mae: 2.2223 - val_mse: 9.2091\n",
            "Epoch 46/100\n",
            "21/21 [==============================] - 0s 5ms/step - loss: 1.3326 - mae: 1.3326 - mse: 4.3744 - val_loss: 2.1761 - val_mae: 2.1761 - val_mse: 8.6743\n",
            "Epoch 47/100\n",
            "21/21 [==============================] - 0s 5ms/step - loss: 1.3035 - mae: 1.3035 - mse: 4.2409 - val_loss: 2.8498 - val_mae: 2.8498 - val_mse: 13.3247\n",
            "Epoch 48/100\n",
            "21/21 [==============================] - 0s 5ms/step - loss: 1.5417 - mae: 1.5417 - mse: 5.3472 - val_loss: 2.2011 - val_mae: 2.2011 - val_mse: 9.0526\n",
            "Epoch 49/100\n",
            "16/21 [=====================>........] - ETA: 0s - loss: 1.3031 - mae: 1.3031 - mse: 4.0625"
          ]
        },
        {
          "output_type": "stream",
          "name": "stderr",
          "text": [
            "WARNING:absl:<keras.layers.recurrent.LSTMCell object at 0x7f4b06cff610> has the same name 'LSTMCell' as a built-in Keras object. Consider renaming <class 'keras.layers.recurrent.LSTMCell'> to avoid naming conflicts when loading with `tf.keras.models.load_model`. If renaming is not possible, pass the object in the `custom_objects` parameter of the load function.\n"
          ]
        },
        {
          "output_type": "stream",
          "name": "stdout",
          "text": [
            "\b\b\b\b\b\b\b\b\b\b\b\b\b\b\b\b\b\b\b\b\b\b\b\b\b\b\b\b\b\b\b\b\b\b\b\b\b\b\b\b\b\b\b\b\b\b\b\b\b\b\b\b\b\b\b\b\b\b\b\b\b\b\b\b\b\b\b\b\b\b\b\b\b\b\b\b\b\b\b\b\b\b\b\b\b\b\b\b\b\b\b\r21/21 [==============================] - 2s 78ms/step - loss: 1.2933 - mae: 1.2933 - mse: 4.1938 - val_loss: 2.1624 - val_mae: 2.1624 - val_mse: 8.6131\n",
            "Epoch 50/100\n",
            "21/21 [==============================] - 0s 6ms/step - loss: 1.2871 - mae: 1.2871 - mse: 4.1862 - val_loss: 2.8195 - val_mae: 2.8195 - val_mse: 13.1053\n",
            "Epoch 51/100\n",
            "14/21 [===================>..........] - ETA: 0s - loss: 1.5385 - mae: 1.5385 - mse: 5.4226"
          ]
        },
        {
          "output_type": "stream",
          "name": "stderr",
          "text": [
            "WARNING:absl:<keras.layers.recurrent.LSTMCell object at 0x7f4b06cff610> has the same name 'LSTMCell' as a built-in Keras object. Consider renaming <class 'keras.layers.recurrent.LSTMCell'> to avoid naming conflicts when loading with `tf.keras.models.load_model`. If renaming is not possible, pass the object in the `custom_objects` parameter of the load function.\n"
          ]
        },
        {
          "output_type": "stream",
          "name": "stdout",
          "text": [
            "\b\b\b\b\b\b\b\b\b\b\b\b\b\b\b\b\b\b\b\b\b\b\b\b\b\b\b\b\b\b\b\b\b\b\b\b\b\b\b\b\b\b\b\b\b\b\b\b\b\b\b\b\b\b\b\b\b\b\b\b\b\b\b\b\b\b\b\b\b\b\b\b\b\b\b\b\b\b\b\b\b\b\b\b\b\b\b\b\b\b\b\r21/21 [==============================] - 2s 93ms/step - loss: 1.5204 - mae: 1.5204 - mse: 5.1262 - val_loss: 2.1600 - val_mae: 2.1600 - val_mse: 8.7050\n",
            "Epoch 52/100\n",
            "21/21 [==============================] - 0s 4ms/step - loss: 1.3416 - mae: 1.3416 - mse: 4.2900 - val_loss: 2.2130 - val_mae: 2.2130 - val_mse: 9.1422\n",
            "Epoch 53/100\n",
            "21/21 [==============================] - 0s 4ms/step - loss: 1.3131 - mae: 1.3131 - mse: 4.2435 - val_loss: 2.5682 - val_mae: 2.5682 - val_mse: 11.4530\n",
            "Epoch 54/100\n",
            "21/21 [==============================] - 0s 5ms/step - loss: 1.5639 - mae: 1.5639 - mse: 5.3181 - val_loss: 2.2092 - val_mae: 2.2092 - val_mse: 9.1141\n",
            "Epoch 55/100\n",
            "21/21 [==============================] - 0s 5ms/step - loss: 1.3043 - mae: 1.3043 - mse: 4.2236 - val_loss: 2.1621 - val_mae: 2.1621 - val_mse: 8.5581\n",
            "Epoch 56/100\n",
            "21/21 [==============================] - 0s 5ms/step - loss: 1.2954 - mae: 1.2954 - mse: 4.1625 - val_loss: 2.3993 - val_mae: 2.3993 - val_mse: 10.3698\n",
            "Epoch 57/100\n",
            "21/21 [==============================] - 0s 4ms/step - loss: 1.3084 - mae: 1.3084 - mse: 4.2628 - val_loss: 2.2700 - val_mae: 2.2700 - val_mse: 9.5355\n",
            "Epoch 58/100\n",
            "21/21 [==============================] - 0s 5ms/step - loss: 1.3610 - mae: 1.3610 - mse: 4.4478 - val_loss: 2.2098 - val_mae: 2.2098 - val_mse: 9.1216\n",
            "Epoch 59/100\n",
            "14/21 [===================>..........] - ETA: 0s - loss: 1.2767 - mae: 1.2767 - mse: 4.2594"
          ]
        },
        {
          "output_type": "stream",
          "name": "stderr",
          "text": [
            "WARNING:absl:<keras.layers.recurrent.LSTMCell object at 0x7f4b06cff610> has the same name 'LSTMCell' as a built-in Keras object. Consider renaming <class 'keras.layers.recurrent.LSTMCell'> to avoid naming conflicts when loading with `tf.keras.models.load_model`. If renaming is not possible, pass the object in the `custom_objects` parameter of the load function.\n"
          ]
        },
        {
          "output_type": "stream",
          "name": "stdout",
          "text": [
            "\b\b\b\b\b\b\b\b\b\b\b\b\b\b\b\b\b\b\b\b\b\b\b\b\b\b\b\b\b\b\b\b\b\b\b\b\b\b\b\b\b\b\b\b\b\b\b\b\b\b\b\b\b\b\b\b\b\b\b\b\b\b\b\b\b\b\b\b\b\b\b\b\b\b\b\b\b\b\b\b\b\b\b\b\b\b\b\b\b\b\b\r21/21 [==============================] - 2s 91ms/step - loss: 1.2721 - mae: 1.2721 - mse: 4.1050 - val_loss: 2.1394 - val_mae: 2.1394 - val_mse: 8.4641\n",
            "Epoch 60/100\n",
            "16/21 [=====================>........] - ETA: 0s - loss: 1.2701 - mae: 1.2701 - mse: 4.0706"
          ]
        },
        {
          "output_type": "stream",
          "name": "stderr",
          "text": [
            "WARNING:absl:<keras.layers.recurrent.LSTMCell object at 0x7f4b06cff610> has the same name 'LSTMCell' as a built-in Keras object. Consider renaming <class 'keras.layers.recurrent.LSTMCell'> to avoid naming conflicts when loading with `tf.keras.models.load_model`. If renaming is not possible, pass the object in the `custom_objects` parameter of the load function.\n"
          ]
        },
        {
          "output_type": "stream",
          "name": "stdout",
          "text": [
            "\b\b\b\b\b\b\b\b\b\b\b\b\b\b\b\b\b\b\b\b\b\b\b\b\b\b\b\b\b\b\b\b\b\b\b\b\b\b\b\b\b\b\b\b\b\b\b\b\b\b\b\b\b\b\b\b\b\b\b\b\b\b\b\b\b\b\b\b\b\b\b\b\b\b\b\b\b\b\b\b\b\b\b\b\b\b\b\b\b\b\b\r21/21 [==============================] - 2s 76ms/step - loss: 1.2765 - mae: 1.2765 - mse: 4.1094 - val_loss: 2.1388 - val_mae: 2.1388 - val_mse: 8.5428\n",
            "Epoch 61/100\n",
            "21/21 [==============================] - 0s 5ms/step - loss: 1.2905 - mae: 1.2905 - mse: 4.1384 - val_loss: 2.3911 - val_mae: 2.3911 - val_mse: 10.3025\n",
            "Epoch 62/100\n",
            "21/21 [==============================] - 0s 5ms/step - loss: 1.3542 - mae: 1.3542 - mse: 4.3671 - val_loss: 2.2626 - val_mae: 2.2626 - val_mse: 9.4778\n",
            "Epoch 63/100\n",
            "21/21 [==============================] - 0s 5ms/step - loss: 1.4674 - mae: 1.4674 - mse: 4.8928 - val_loss: 2.1707 - val_mae: 2.1707 - val_mse: 8.8299\n",
            "Epoch 64/100\n",
            "21/21 [==============================] - 0s 5ms/step - loss: 1.2759 - mae: 1.2759 - mse: 4.0569 - val_loss: 2.1391 - val_mae: 2.1391 - val_mse: 8.4060\n",
            "Epoch 65/100\n",
            "21/21 [==============================] - 0s 5ms/step - loss: 1.2732 - mae: 1.2732 - mse: 4.0421 - val_loss: 2.8058 - val_mae: 2.8058 - val_mse: 12.9500\n",
            "Epoch 66/100\n",
            "21/21 [==============================] - 0s 5ms/step - loss: 1.5079 - mae: 1.5079 - mse: 5.2055 - val_loss: 2.1854 - val_mae: 2.1854 - val_mse: 8.5866\n",
            "Epoch 67/100\n",
            "13/21 [=================>............] - ETA: 0s - loss: 1.3603 - mae: 1.3603 - mse: 3.9886"
          ]
        },
        {
          "output_type": "stream",
          "name": "stderr",
          "text": [
            "WARNING:absl:<keras.layers.recurrent.LSTMCell object at 0x7f4b06cff610> has the same name 'LSTMCell' as a built-in Keras object. Consider renaming <class 'keras.layers.recurrent.LSTMCell'> to avoid naming conflicts when loading with `tf.keras.models.load_model`. If renaming is not possible, pass the object in the `custom_objects` parameter of the load function.\n"
          ]
        },
        {
          "output_type": "stream",
          "name": "stdout",
          "text": [
            "\b\b\b\b\b\b\b\b\b\b\b\b\b\b\b\b\b\b\b\b\b\b\b\b\b\b\b\b\b\b\b\b\b\b\b\b\b\b\b\b\b\b\b\b\b\b\b\b\b\b\b\b\b\b\b\b\b\b\b\b\b\b\b\b\b\b\b\b\b\b\b\b\b\b\b\b\b\b\b\b\b\b\b\b\b\b\b\b\b\b\b\r21/21 [==============================] - 2s 77ms/step - loss: 1.3457 - mae: 1.3457 - mse: 4.2910 - val_loss: 2.1246 - val_mae: 2.1246 - val_mse: 8.4374\n",
            "Epoch 68/100\n",
            "21/21 [==============================] - 0s 5ms/step - loss: 1.2551 - mae: 1.2551 - mse: 3.9786 - val_loss: 2.6397 - val_mae: 2.6397 - val_mse: 11.8523\n",
            "Epoch 69/100\n",
            "21/21 [==============================] - 0s 5ms/step - loss: 1.5310 - mae: 1.5310 - mse: 5.1378 - val_loss: 2.3370 - val_mae: 2.3370 - val_mse: 9.3476\n",
            "Epoch 70/100\n",
            "21/21 [==============================] - 0s 5ms/step - loss: 1.4579 - mae: 1.4579 - mse: 4.7226 - val_loss: 2.2828 - val_mae: 2.2828 - val_mse: 9.5950\n",
            "Epoch 71/100\n",
            "21/21 [==============================] - 0s 5ms/step - loss: 1.3898 - mae: 1.3898 - mse: 4.5217 - val_loss: 2.1274 - val_mae: 2.1274 - val_mse: 8.3181\n",
            "Epoch 72/100\n",
            "15/21 [====================>.........] - ETA: 0s - loss: 1.2854 - mae: 1.2854 - mse: 4.2407"
          ]
        },
        {
          "output_type": "stream",
          "name": "stderr",
          "text": [
            "WARNING:absl:<keras.layers.recurrent.LSTMCell object at 0x7f4b06cff610> has the same name 'LSTMCell' as a built-in Keras object. Consider renaming <class 'keras.layers.recurrent.LSTMCell'> to avoid naming conflicts when loading with `tf.keras.models.load_model`. If renaming is not possible, pass the object in the `custom_objects` parameter of the load function.\n"
          ]
        },
        {
          "output_type": "stream",
          "name": "stdout",
          "text": [
            "\b\b\b\b\b\b\b\b\b\b\b\b\b\b\b\b\b\b\b\b\b\b\b\b\b\b\b\b\b\b\b\b\b\b\b\b\b\b\b\b\b\b\b\b\b\b\b\b\b\b\b\b\b\b\b\b\b\b\b\b\b\b\b\b\b\b\b\b\b\b\b\b\b\b\b\b\b\b\b\b\b\b\b\b\b\b\b\b\b\b\b\r21/21 [==============================] - 2s 76ms/step - loss: 1.2523 - mae: 1.2523 - mse: 3.9440 - val_loss: 2.1135 - val_mae: 2.1135 - val_mse: 8.3582\n",
            "Epoch 73/100\n",
            "21/21 [==============================] - 0s 6ms/step - loss: 1.2726 - mae: 1.2726 - mse: 4.0163 - val_loss: 2.1351 - val_mae: 2.1351 - val_mse: 8.5670\n",
            "Epoch 74/100\n",
            "21/21 [==============================] - 0s 5ms/step - loss: 1.2532 - mae: 1.2532 - mse: 3.9419 - val_loss: 2.2279 - val_mae: 2.2279 - val_mse: 9.2342\n",
            "Epoch 75/100\n",
            "21/21 [==============================] - 0s 5ms/step - loss: 1.2977 - mae: 1.2977 - mse: 4.1567 - val_loss: 2.3807 - val_mae: 2.3807 - val_mse: 10.1982\n",
            "Epoch 76/100\n",
            "21/21 [==============================] - 0s 5ms/step - loss: 1.4600 - mae: 1.4600 - mse: 4.7391 - val_loss: 2.3221 - val_mae: 2.3221 - val_mse: 9.2459\n",
            "Epoch 77/100\n",
            "21/21 [==============================] - 0s 5ms/step - loss: 1.3202 - mae: 1.3202 - mse: 4.1509 - val_loss: 2.1466 - val_mae: 2.1466 - val_mse: 8.3523\n",
            "Epoch 78/100\n",
            "21/21 [==============================] - 0s 5ms/step - loss: 1.3189 - mae: 1.3189 - mse: 4.2182 - val_loss: 3.2198 - val_mae: 3.2198 - val_mse: 15.8205\n",
            "Epoch 79/100\n",
            "21/21 [==============================] - 0s 5ms/step - loss: 1.5559 - mae: 1.5559 - mse: 5.2292 - val_loss: 2.2302 - val_mae: 2.2302 - val_mse: 9.2405\n",
            "Epoch 80/100\n",
            "13/21 [=================>............] - ETA: 0s - loss: 1.4030 - mae: 1.4030 - mse: 4.4316"
          ]
        },
        {
          "output_type": "stream",
          "name": "stderr",
          "text": [
            "WARNING:absl:<keras.layers.recurrent.LSTMCell object at 0x7f4b06cff610> has the same name 'LSTMCell' as a built-in Keras object. Consider renaming <class 'keras.layers.recurrent.LSTMCell'> to avoid naming conflicts when loading with `tf.keras.models.load_model`. If renaming is not possible, pass the object in the `custom_objects` parameter of the load function.\n"
          ]
        },
        {
          "output_type": "stream",
          "name": "stdout",
          "text": [
            "\b\b\b\b\b\b\b\b\b\b\b\b\b\b\b\b\b\b\b\b\b\b\b\b\b\b\b\b\b\b\b\b\b\b\b\b\b\b\b\b\b\b\b\b\b\b\b\b\b\b\b\b\b\b\b\b\b\b\b\b\b\b\b\b\b\b\b\b\b\b\b\b\b\b\b\b\b\b\b\b\b\b\b\b\b\b\b\b\b\b\b\r21/21 [==============================] - 2s 91ms/step - loss: 1.3491 - mae: 1.3491 - mse: 4.3489 - val_loss: 2.0997 - val_mae: 2.0997 - val_mse: 8.2214\n",
            "Epoch 81/100\n",
            "21/21 [==============================] - 0s 5ms/step - loss: 1.2447 - mae: 1.2447 - mse: 3.9278 - val_loss: 2.2655 - val_mae: 2.2655 - val_mse: 9.4617\n",
            "Epoch 82/100\n",
            "21/21 [==============================] - 0s 5ms/step - loss: 1.3028 - mae: 1.3028 - mse: 4.1514 - val_loss: 2.1103 - val_mae: 2.1103 - val_mse: 8.3748\n",
            "Epoch 83/100\n",
            "21/21 [==============================] - 0s 5ms/step - loss: 1.3033 - mae: 1.3033 - mse: 4.0539 - val_loss: 2.5100 - val_mae: 2.5100 - val_mse: 10.2918\n",
            "Epoch 84/100\n",
            "21/21 [==============================] - 0s 5ms/step - loss: 1.3596 - mae: 1.3596 - mse: 4.4028 - val_loss: 2.1076 - val_mae: 2.1076 - val_mse: 8.1684\n",
            "Epoch 85/100\n",
            "21/21 [==============================] - 0s 5ms/step - loss: 1.2435 - mae: 1.2435 - mse: 3.8873 - val_loss: 2.4586 - val_mae: 2.4586 - val_mse: 9.9860\n",
            "Epoch 86/100\n",
            "21/21 [==============================] - 0s 5ms/step - loss: 1.4808 - mae: 1.4808 - mse: 4.7112 - val_loss: 2.1127 - val_mae: 2.1127 - val_mse: 8.4063\n",
            "Epoch 87/100\n",
            "21/21 [==============================] - 0s 5ms/step - loss: 1.2672 - mae: 1.2672 - mse: 3.9741 - val_loss: 2.2384 - val_mae: 2.2384 - val_mse: 9.2801\n",
            "Epoch 88/100\n",
            "21/21 [==============================] - 0s 6ms/step - loss: 1.3303 - mae: 1.3303 - mse: 4.2296 - val_loss: 2.1072 - val_mae: 2.1072 - val_mse: 8.3655\n",
            "Epoch 89/100\n",
            "21/21 [==============================] - 0s 5ms/step - loss: 1.2352 - mae: 1.2352 - mse: 3.8469 - val_loss: 2.1471 - val_mae: 2.1471 - val_mse: 8.6804\n",
            "Epoch 90/100\n",
            "16/21 [=====================>........] - ETA: 0s - loss: 1.2672 - mae: 1.2672 - mse: 4.0319"
          ]
        },
        {
          "output_type": "stream",
          "name": "stderr",
          "text": [
            "WARNING:absl:<keras.layers.recurrent.LSTMCell object at 0x7f4b06cff610> has the same name 'LSTMCell' as a built-in Keras object. Consider renaming <class 'keras.layers.recurrent.LSTMCell'> to avoid naming conflicts when loading with `tf.keras.models.load_model`. If renaming is not possible, pass the object in the `custom_objects` parameter of the load function.\n"
          ]
        },
        {
          "output_type": "stream",
          "name": "stdout",
          "text": [
            "\b\b\b\b\b\b\b\b\b\b\b\b\b\b\b\b\b\b\b\b\b\b\b\b\b\b\b\b\b\b\b\b\b\b\b\b\b\b\b\b\b\b\b\b\b\b\b\b\b\b\b\b\b\b\b\b\b\b\b\b\b\b\b\b\b\b\b\b\b\b\b\b\b\b\b\b\b\b\b\b\b\b\b\b\b\b\b\b\b\b\b\r21/21 [==============================] - 2s 77ms/step - loss: 1.2591 - mae: 1.2591 - mse: 3.9513 - val_loss: 2.0845 - val_mae: 2.0845 - val_mse: 8.0920\n",
            "Epoch 91/100\n",
            "21/21 [==============================] - 0s 5ms/step - loss: 1.2298 - mae: 1.2298 - mse: 3.8174 - val_loss: 2.7353 - val_mae: 2.7353 - val_mse: 12.4133\n",
            "Epoch 92/100\n",
            "21/21 [==============================] - 0s 5ms/step - loss: 1.5498 - mae: 1.5498 - mse: 5.2265 - val_loss: 2.7581 - val_mae: 2.7581 - val_mse: 11.7909\n",
            "Epoch 93/100\n",
            "21/21 [==============================] - 0s 5ms/step - loss: 1.5817 - mae: 1.5817 - mse: 5.2028 - val_loss: 2.1158 - val_mae: 2.1158 - val_mse: 8.4417\n",
            "Epoch 94/100\n",
            "21/21 [==============================] - 0s 6ms/step - loss: 1.2377 - mae: 1.2377 - mse: 3.8650 - val_loss: 2.1182 - val_mae: 2.1182 - val_mse: 8.1477\n",
            "Epoch 95/100\n",
            "21/21 [==============================] - 0s 5ms/step - loss: 1.2664 - mae: 1.2664 - mse: 3.9764 - val_loss: 2.2947 - val_mae: 2.2947 - val_mse: 9.0594\n",
            "Epoch 96/100\n",
            "21/21 [==============================] - 0s 6ms/step - loss: 1.2931 - mae: 1.2931 - mse: 3.9760 - val_loss: 2.1537 - val_mae: 2.1537 - val_mse: 8.3020\n",
            "Epoch 97/100\n",
            "21/21 [==============================] - 0s 6ms/step - loss: 1.4270 - mae: 1.4270 - mse: 4.4644 - val_loss: 2.5011 - val_mae: 2.5011 - val_mse: 10.8858\n",
            "Epoch 98/100\n",
            "21/21 [==============================] - 0s 5ms/step - loss: 1.4187 - mae: 1.4187 - mse: 4.5585 - val_loss: 2.1481 - val_mae: 2.1481 - val_mse: 8.6849\n",
            "Epoch 99/100\n",
            "14/21 [===================>..........] - ETA: 0s - loss: 1.2559 - mae: 1.2559 - mse: 3.9504"
          ]
        },
        {
          "output_type": "stream",
          "name": "stderr",
          "text": [
            "WARNING:absl:<keras.layers.recurrent.LSTMCell object at 0x7f4b06cff610> has the same name 'LSTMCell' as a built-in Keras object. Consider renaming <class 'keras.layers.recurrent.LSTMCell'> to avoid naming conflicts when loading with `tf.keras.models.load_model`. If renaming is not possible, pass the object in the `custom_objects` parameter of the load function.\n"
          ]
        },
        {
          "output_type": "stream",
          "name": "stdout",
          "text": [
            "\b\b\b\b\b\b\b\b\b\b\b\b\b\b\b\b\b\b\b\b\b\b\b\b\b\b\b\b\b\b\b\b\b\b\b\b\b\b\b\b\b\b\b\b\b\b\b\b\b\b\b\b\b\b\b\b\b\b\b\b\b\b\b\b\b\b\b\b\b\b\b\b\b\b\b\b\b\b\b\b\b\b\b\b\b\b\b\b\b\b\b\r21/21 [==============================] - 2s 78ms/step - loss: 1.2462 - mae: 1.2462 - mse: 3.8323 - val_loss: 2.0817 - val_mae: 2.0817 - val_mse: 8.0052\n",
            "Epoch 100/100\n",
            "21/21 [==============================] - 0s 5ms/step - loss: 1.2263 - mae: 1.2263 - mse: 3.8064 - val_loss: 2.3510 - val_mae: 2.3510 - val_mse: 9.3564\n"
          ]
        },
        {
          "output_type": "execute_result",
          "data": {
            "text/plain": [
              "<keras.callbacks.History at 0x7f4b06c72ed0>"
            ]
          },
          "metadata": {},
          "execution_count": 42
        }
      ]
    },
    {
      "cell_type": "code",
      "source": [
        "model_3.evaluate(test_windows,test_labels)"
      ],
      "metadata": {
        "colab": {
          "base_uri": "https://localhost:8080/"
        },
        "id": "jhHgKN0HGfSV",
        "outputId": "1741cff4-6a7f-467f-c427-8e1ea7e942ca"
      },
      "execution_count": null,
      "outputs": [
        {
          "output_type": "stream",
          "name": "stdout",
          "text": [
            "21/21 [==============================] - 0s 2ms/step - loss: 2.3510 - mae: 2.3510 - mse: 9.3564\n"
          ]
        },
        {
          "output_type": "execute_result",
          "data": {
            "text/plain": [
              "[2.3509936332702637, 2.3509936332702637, 9.356414794921875]"
            ]
          },
          "metadata": {},
          "execution_count": 43
        }
      ]
    },
    {
      "cell_type": "code",
      "source": [
        "#Loading the best model \n",
        "model_3 = tf.keras.models.load_model(\"model_experiments/model_3/\")\n",
        "model_3.evaluate(test_windows, test_labels)"
      ],
      "metadata": {
        "colab": {
          "base_uri": "https://localhost:8080/"
        },
        "id": "5WJXQX5DHOuj",
        "outputId": "0a273dc6-4723-4730-a340-e3c81a98084c"
      },
      "execution_count": null,
      "outputs": [
        {
          "output_type": "stream",
          "name": "stdout",
          "text": [
            "21/21 [==============================] - 0s 1ms/step - loss: 2.0817 - mae: 2.0817 - mse: 8.0052\n"
          ]
        },
        {
          "output_type": "execute_result",
          "data": {
            "text/plain": [
              "[2.0816667079925537, 2.0816667079925537, 8.005195617675781]"
            ]
          },
          "metadata": {},
          "execution_count": 47
        }
      ]
    },
    {
      "cell_type": "code",
      "source": [
        "model_3_preds = make_preds(model_3,test_windows)"
      ],
      "metadata": {
        "id": "wct0ckTsHcxj"
      },
      "execution_count": null,
      "outputs": []
    },
    {
      "cell_type": "code",
      "source": [
        "model_3_preds"
      ],
      "metadata": {
        "colab": {
          "base_uri": "https://localhost:8080/"
        },
        "id": "7m0vLS8FHw_7",
        "outputId": "7a52ea2a-8f47-4346-edb1-b8f05e0f0bcd"
      },
      "execution_count": null,
      "outputs": [
        {
          "output_type": "execute_result",
          "data": {
            "text/plain": [
              "<tf.Tensor: shape=(641,), dtype=float32, numpy=\n",
              "array([126.69967 , 127.72816 , 122.07602 , 116.35047 , 119.13812 ,\n",
              "       121.13272 , 122.95341 , 125.11805 , 127.04577 , 127.1813  ,\n",
              "       125.92849 , 126.94549 , 126.59979 , 128.0118  , 132.00203 ,\n",
              "       135.56833 , 137.06712 , 137.45828 , 138.67816 , 137.4981  ,\n",
              "       135.83482 , 136.48174 , 135.3707  , 133.36613 , 133.83073 ,\n",
              "       134.23056 , 135.3732  , 139.43788 , 143.62569 , 145.04478 ,\n",
              "       143.94289 , 141.57533 , 139.7382  , 138.34895 , 137.14958 ,\n",
              "       136.56853 , 137.48708 , 136.89543 , 134.44855 , 130.92644 ,\n",
              "       128.6082  , 128.52478 , 133.34576 , 136.46535 , 138.21443 ,\n",
              "       138.65205 , 138.38313 , 140.38698 , 144.83958 , 146.57965 ,\n",
              "       147.35739 , 147.5194  , 147.85655 , 149.64925 , 151.60597 ,\n",
              "       154.64659 , 156.55116 , 156.88924 , 156.00166 , 150.22661 ,\n",
              "       147.18036 , 147.9384  , 148.52934 , 149.25923 , 150.26619 ,\n",
              "       149.72185 , 148.66206 , 148.53813 , 146.27786 , 145.48763 ,\n",
              "       144.94533 , 145.29195 , 146.22845 , 146.56517 , 147.1564  ,\n",
              "       148.37077 , 147.1772  , 146.34286 , 144.82266 , 144.0027  ,\n",
              "       144.83449 , 147.02975 , 148.72244 , 150.24387 , 150.73373 ,\n",
              "       149.26424 , 148.7293  , 149.23944 , 149.45056 , 150.05827 ,\n",
              "       152.07417 , 149.71883 , 148.02025 , 146.17711 , 143.47551 ,\n",
              "       142.23088 , 142.47284 , 143.99387 , 145.82059 , 147.50957 ,\n",
              "       150.09503 , 152.27463 , 153.61166 , 155.21437 , 156.09604 ,\n",
              "       155.74976 , 155.35304 , 155.01112 , 154.20387 , 153.88177 ,\n",
              "       154.67365 , 154.94624 , 155.33598 , 155.88333 , 156.68307 ,\n",
              "       156.02501 , 156.2206  , 158.71886 , 158.73015 , 157.955   ,\n",
              "       157.11467 , 156.99702 , 156.05054 , 156.7552  , 158.63576 ,\n",
              "       158.74095 , 159.70772 , 162.24852 , 161.838   , 157.84242 ,\n",
              "       155.99567 , 153.89157 , 152.37935 , 152.39314 , 153.14977 ,\n",
              "       152.57066 , 152.46573 , 151.8528  , 151.99757 , 153.30644 ,\n",
              "       153.96062 , 155.95082 , 158.17456 , 159.55165 , 160.23795 ,\n",
              "       159.64713 , 159.69612 , 160.35255 , 161.24214 , 161.47841 ,\n",
              "       162.0493  , 161.68027 , 161.81914 , 161.76115 , 159.99077 ,\n",
              "       156.53795 , 153.5712  , 151.73485 , 151.52095 , 153.01915 ,\n",
              "       155.34154 , 154.29951 , 154.5176  , 155.20045 , 154.95203 ,\n",
              "       157.63406 , 159.9176  , 159.29958 , 160.53918 , 163.14018 ,\n",
              "       164.03098 , 163.70122 , 164.37877 , 165.1822  , 165.86362 ,\n",
              "       167.87685 , 169.26134 , 169.4948  , 167.92938 , 165.6722  ,\n",
              "       165.00343 , 164.78654 , 164.81047 , 164.29782 , 164.72542 ,\n",
              "       166.44121 , 166.54884 , 166.62527 , 166.74641 , 166.9185  ,\n",
              "       167.54631 , 168.53654 , 168.98326 , 168.88847 , 168.29619 ,\n",
              "       167.60283 , 167.35489 , 167.44484 , 167.09676 , 167.02486 ,\n",
              "       167.39195 , 166.21315 , 165.22414 , 166.14348 , 164.64122 ,\n",
              "       161.94444 , 160.3801  , 159.75865 , 159.29515 , 159.43816 ,\n",
              "       159.26976 , 160.61595 , 162.05879 , 162.88313 , 162.7749  ,\n",
              "       163.18382 , 165.7758  , 172.20482 , 174.79097 , 172.12404 ,\n",
              "       170.22179 , 169.03386 , 167.77791 , 168.68564 , 170.4572  ,\n",
              "       171.95319 , 172.92717 , 173.4575  , 172.6374  , 172.54832 ,\n",
              "       171.84248 , 171.08562 , 172.18944 , 171.7565  , 170.72746 ,\n",
              "       170.80305 , 171.15376 , 171.83351 , 170.89415 , 170.5537  ,\n",
              "       171.11287 , 171.42027 , 171.59578 , 173.30516 , 175.5796  ,\n",
              "       175.64789 , 176.8816  , 178.21245 , 178.31728 , 180.64305 ,\n",
              "       181.28517 , 181.3224  , 183.32452 , 183.14105 , 182.82976 ,\n",
              "       182.93999 , 183.39024 , 184.99303 , 186.84904 , 188.17094 ,\n",
              "       188.55528 , 187.54341 , 186.88799 , 187.56506 , 187.9616  ,\n",
              "       188.19835 , 188.91022 , 190.1986  , 190.80595 , 190.50475 ,\n",
              "       190.4539  , 190.75328 , 191.22719 , 191.69185 , 191.83514 ,\n",
              "       192.99442 , 193.80225 , 194.54713 , 194.1295  , 191.23776 ,\n",
              "       189.99452 , 191.16118 , 190.70573 , 191.2074  , 192.48354 ,\n",
              "       193.48518 , 194.60374 , 195.70189 , 198.0331  , 198.01932 ,\n",
              "       195.12263 , 195.73534 , 196.8707  , 197.03575 , 197.07848 ,\n",
              "       196.75412 , 196.42622 , 196.46925 , 196.7824  , 196.81891 ,\n",
              "       196.56844 , 197.23717 , 197.59001 , 197.6715  , 197.9951  ,\n",
              "       198.23097 , 199.34004 , 199.16512 , 198.61479 , 198.25333 ,\n",
              "       197.93367 , 197.61613 , 196.977   , 196.12521 , 194.11586 ,\n",
              "       191.84831 , 189.2389  , 189.17035 , 189.65587 , 188.46507 ,\n",
              "       188.291   , 189.25969 , 190.01428 , 190.59322 , 192.12445 ,\n",
              "       193.26826 , 193.95702 , 193.13063 , 193.76485 , 193.67802 ,\n",
              "       194.37291 , 194.85056 , 194.71175 , 195.97014 , 196.98665 ,\n",
              "       195.51634 , 194.11555 , 194.76414 , 195.05383 , 194.34932 ,\n",
              "       194.92186 , 195.88744 , 195.45143 , 194.37056 , 193.7795  ,\n",
              "       193.22282 , 192.62093 , 194.03633 , 193.63484 , 192.86987 ,\n",
              "       193.17133 , 192.72504 , 193.05281 , 194.91945 , 195.62526 ,\n",
              "       195.59239 , 196.45381 , 195.64128 , 193.3588  , 191.82724 ,\n",
              "       191.0803  , 190.74217 , 190.92659 , 190.92763 , 191.31844 ,\n",
              "       191.4633  , 191.904   , 191.70372 , 190.78798 , 190.93857 ,\n",
              "       190.96635 , 186.71275 , 185.07266 , 184.05496 , 181.90086 ,\n",
              "       181.64285 , 180.80598 , 180.24533 , 180.06752 , 178.93933 ,\n",
              "       178.03075 , 176.71349 , 176.23552 , 177.22633 , 177.45161 ,\n",
              "       177.91725 , 177.67476 , 177.43364 , 175.0818  , 173.84091 ,\n",
              "       173.42616 , 173.67761 , 174.3306  , 174.69962 , 174.18669 ,\n",
              "       173.73398 , 172.92912 , 173.24736 , 175.06349 , 176.89896 ,\n",
              "       177.81252 , 178.60905 , 179.01297 , 178.8509  , 178.19936 ,\n",
              "       178.53816 , 178.75453 , 176.90875 , 176.50714 , 176.22105 ,\n",
              "       175.81894 , 177.17458 , 178.28816 , 177.76828 , 178.2075  ,\n",
              "       178.35738 , 177.9953  , 178.50722 , 177.95331 , 178.76079 ,\n",
              "       179.66805 , 179.6992  , 179.93028 , 178.7458  , 177.69748 ,\n",
              "       177.83014 , 177.55382 , 176.6526  , 175.31978 , 174.68036 ,\n",
              "       171.66669 , 169.73628 , 169.26569 , 169.62448 , 172.22334 ,\n",
              "       173.99788 , 174.0937  , 174.47359 , 174.85417 , 173.78075 ,\n",
              "       173.22945 , 173.66159 , 174.91087 , 174.08925 , 172.50633 ,\n",
              "       171.87337 , 171.24748 , 171.75032 , 173.485   , 174.73042 ,\n",
              "       175.75842 , 176.05238 , 175.89847 , 175.93797 , 177.01816 ,\n",
              "       177.45467 , 176.84813 , 177.45287 , 176.78618 , 176.51642 ,\n",
              "       177.25244 , 178.11423 , 177.60269 , 177.08952 , 176.8719  ,\n",
              "       174.45976 , 172.24255 , 171.70644 , 171.51558 , 169.53049 ,\n",
              "       168.8284  , 165.55241 , 164.13809 , 164.9522  , 164.82648 ,\n",
              "       163.64833 , 161.855   , 160.29242 , 160.33217 , 160.90761 ,\n",
              "       159.70422 , 158.78113 , 157.73482 , 156.43626 , 155.0937  ,\n",
              "       152.01399 , 149.37256 , 147.96507 , 145.79884 , 144.39925 ,\n",
              "       147.21129 , 148.18623 , 146.3184  , 146.87758 , 147.81386 ,\n",
              "       146.76326 , 145.16875 , 145.24736 , 145.79457 , 144.7018  ,\n",
              "       142.8208  , 143.11601 , 143.57652 , 144.17793 , 146.02666 ,\n",
              "       147.45427 , 147.95842 , 149.02617 , 148.56024 , 148.4905  ,\n",
              "       149.55254 , 149.49223 , 150.50688 , 151.35017 , 150.03595 ,\n",
              "       149.71428 , 149.75887 , 149.00435 , 149.5193  , 149.90366 ,\n",
              "       149.68393 , 149.9138  , 149.33699 , 148.77353 , 148.14339 ,\n",
              "       147.00983 , 148.22072 , 149.57063 , 150.43492 , 150.17705 ,\n",
              "       149.40677 , 146.86484 , 145.14119 , 145.8401  , 145.10951 ,\n",
              "       145.03664 , 146.89076 , 150.25917 , 150.24675 , 149.8397  ,\n",
              "       151.345   , 150.35562 , 147.84825 , 148.82594 , 149.09622 ,\n",
              "       149.2669  , 151.00374 , 150.33327 , 148.37791 , 146.29814 ,\n",
              "       144.91147 , 144.98634 , 145.30965 , 146.03447 , 147.90443 ,\n",
              "       148.699   , 147.63182 , 147.8254  , 147.10182 , 146.18993 ,\n",
              "       146.52715 , 146.0663  , 144.87917 , 141.58635 , 138.51804 ,\n",
              "       136.71938 , 135.09172 , 132.79869 , 131.26482 , 130.45027 ,\n",
              "       130.18861 , 130.00691 , 132.03737 , 132.7419  , 131.46437 ,\n",
              "       130.70662 , 130.10059 , 128.91725 , 128.92903 , 129.41771 ,\n",
              "       129.65584 , 129.2407  , 129.09923 , 129.59695 , 129.00868 ,\n",
              "       128.48172 , 129.34807 , 129.16722 , 130.28358 , 131.9723  ,\n",
              "       132.89246 , 133.59662 , 134.06268 , 137.04521 , 138.43315 ,\n",
              "       139.11354 , 141.52989 , 142.68529 , 141.99625 , 142.90016 ,\n",
              "       145.42538 , 146.47691 , 147.38153 , 148.07098 , 148.61    ,\n",
              "       149.05226 , 150.56856 , 151.16031 , 150.75081 , 149.20055 ,\n",
              "       147.81483 , 146.30559 , 143.81615 , 142.42131 , 141.73979 ,\n",
              "       141.82253 , 136.05219 , 130.5869  , 127.74558 , 125.23073 ,\n",
              "       124.60331 , 123.699005, 119.97308 , 119.89885 , 119.70084 ,\n",
              "       120.604225, 122.81972 , 122.03884 , 119.634895, 118.20405 ,\n",
              "       116.98696 , 116.49067 , 116.47557 , 115.73683 , 114.8703  ,\n",
              "       113.910355, 113.267105, 112.75942 , 113.36082 , 112.98199 ,\n",
              "       111.67012 ], dtype=float32)>"
            ]
          },
          "metadata": {},
          "execution_count": 49
        }
      ]
    },
    {
      "cell_type": "markdown",
      "source": [
        "# Now we are going to create a function to calculate various errors associated with our model.\n",
        "These errors are namely:\n",
        "1. Mean Absolute Error\n",
        "2. Mean squared error\n",
        "3.Mean Absolute Percentage Error"
      ],
      "metadata": {
        "id": "2V-6Qd4KH4vQ"
      }
    },
    {
      "cell_type": "markdown",
      "source": [
        "Creating a custom function to calculate the mean absolute scaled error"
      ],
      "metadata": {
        "id": "d83CVzy7KHPl"
      }
    },
    {
      "cell_type": "code",
      "source": [
        "def mean_absolute_scaled_error(y_true,y_pred):\n",
        "  mae = tf.reduce_mean(tf.abs(y_true-y_pred))\n",
        "  mae_naive_no_season = tf.reduce_mean(tf.abs(y_true[1:]-y_true[:-1]))\n",
        "  return mae/mae_naive_no_season"
      ],
      "metadata": {
        "id": "AlYtvxh5KNJx"
      },
      "execution_count": null,
      "outputs": []
    },
    {
      "cell_type": "code",
      "source": [
        "def evaluate_preds(y_true, y_pred):\n",
        "  y_true = tf.cast(y_true, dtype=tf.float32)\n",
        "  y_pred = tf.cast(y_pred, dtype = tf.float32)\n",
        "  mae = tf.keras.metrics.mean_absolute_error(y_true, y_pred)\n",
        "  mse = tf.keras.metrics.mean_squared_error(y_true, y_pred)\n",
        "  mape = tf.keras.metrics.mean_absolute_percentage_error(y_true,y_pred)\n",
        "  mase = mean_absolute_scaled_error(y_true,y_pred)\n",
        "  return {\"mae\":mae,\n",
        "          \"mse\":mse,\n",
        "          \"mape\":mape,\n",
        "          \"mase\":mase} "
      ],
      "metadata": {
        "id": "qkNiwKDUHzBh"
      },
      "execution_count": null,
      "outputs": []
    },
    {
      "cell_type": "code",
      "source": [
        "evaluate_preds(tf.squeeze(test_labels),model_1_preds)"
      ],
      "metadata": {
        "colab": {
          "base_uri": "https://localhost:8080/"
        },
        "id": "6yJGiL2GJqGP",
        "outputId": "1b70c49d-ea04-44be-d65e-8de54c874cd9"
      },
      "execution_count": null,
      "outputs": [
        {
          "output_type": "execute_result",
          "data": {
            "text/plain": [
              "{'mae': <tf.Tensor: shape=(), dtype=float32, numpy=2.0489147>,\n",
              " 'mse': <tf.Tensor: shape=(), dtype=float32, numpy=7.9335237>,\n",
              " 'mape': <tf.Tensor: shape=(), dtype=float32, numpy=1.3319274>,\n",
              " 'mase': <tf.Tensor: shape=(), dtype=float32, numpy=1.1387874>}"
            ]
          },
          "metadata": {},
          "execution_count": 57
        }
      ]
    },
    {
      "cell_type": "code",
      "source": [
        "evaluate_preds(tf.squeeze(test_labels),model_2_preds)"
      ],
      "metadata": {
        "colab": {
          "base_uri": "https://localhost:8080/"
        },
        "id": "yre-zsvJK6Fj",
        "outputId": "024df4d0-9757-4b03-bf3e-3997a62cc36d"
      },
      "execution_count": null,
      "outputs": [
        {
          "output_type": "execute_result",
          "data": {
            "text/plain": [
              "{'mae': <tf.Tensor: shape=(), dtype=float32, numpy=2.2607222>,\n",
              " 'mse': <tf.Tensor: shape=(), dtype=float32, numpy=9.272051>,\n",
              " 'mape': <tf.Tensor: shape=(), dtype=float32, numpy=1.4704846>,\n",
              " 'mase': <tf.Tensor: shape=(), dtype=float32, numpy=1.25651>}"
            ]
          },
          "metadata": {},
          "execution_count": 58
        }
      ]
    },
    {
      "cell_type": "code",
      "source": [
        "evaluate_preds(tf.squeeze(test_labels),model_3_preds)"
      ],
      "metadata": {
        "colab": {
          "base_uri": "https://localhost:8080/"
        },
        "id": "A-aXU3_ALnAq",
        "outputId": "1b9e75f3-df52-429f-fae6-37f137cf2fa9"
      },
      "execution_count": null,
      "outputs": [
        {
          "output_type": "execute_result",
          "data": {
            "text/plain": [
              "{'mae': <tf.Tensor: shape=(), dtype=float32, numpy=2.0816667>,\n",
              " 'mse': <tf.Tensor: shape=(), dtype=float32, numpy=8.005196>,\n",
              " 'mape': <tf.Tensor: shape=(), dtype=float32, numpy=1.3520995>,\n",
              " 'mase': <tf.Tensor: shape=(), dtype=float32, numpy=1.1569909>}"
            ]
          },
          "metadata": {},
          "execution_count": 59
        }
      ]
    },
    {
      "cell_type": "markdown",
      "source": [
        "# Visualising our models"
      ],
      "metadata": {
        "id": "lk24KW63LwbP"
      }
    },
    {
      "cell_type": "code",
      "source": [
        "from tensorflow.keras.utils import plot_model"
      ],
      "metadata": {
        "id": "xReOtygwLswl"
      },
      "execution_count": null,
      "outputs": []
    },
    {
      "cell_type": "code",
      "source": [
        "plot_model(model_1)"
      ],
      "metadata": {
        "colab": {
          "base_uri": "https://localhost:8080/",
          "height": 272
        },
        "id": "IZ6jJE3jL51f",
        "outputId": "004e406e-53f9-4dfb-935d-4e65a28ee1dd"
      },
      "execution_count": null,
      "outputs": [
        {
          "output_type": "execute_result",
          "data": {
            "image/png": "[encoded data removed]",
            "text/plain": [
              "<IPython.core.display.Image object>"
            ]
          },
          "metadata": {},
          "execution_count": 61
        }
      ]
    },
    {
      "cell_type": "code",
      "source": [
        "plot_model(model_2)"
      ],
      "metadata": {
        "colab": {
          "base_uri": "https://localhost:8080/",
          "height": 369
        },
        "id": "icmdQCiPL8Br",
        "outputId": "6cd6387c-8b98-4262-8a87-7534b444e12d"
      },
      "execution_count": null,
      "outputs": [
        {
          "output_type": "execute_result",
          "data": {
            "image/png": "[encoded data removed]",
            "text/plain": [
              "<IPython.core.display.Image object>"
            ]
          },
          "metadata": {},
          "execution_count": 62
        }
      ]
    },
    {
      "cell_type": "code",
      "source": [
        "plot_model(model_3)"
      ],
      "metadata": {
        "colab": {
          "base_uri": "https://localhost:8080/",
          "height": 369
        },
        "id": "0D2ncStHL-GN",
        "outputId": "c4b5b638-4922-4f15-d6c6-802affb016b4"
      },
      "execution_count": null,
      "outputs": [
        {
          "output_type": "execute_result",
          "data": {
            "image/png": "[encoded data removed]",
            "text/plain": [
              "<IPython.core.display.Image object>"
            ]
          },
          "metadata": {},
          "execution_count": 63
        }
      ]
    },
    {
      "cell_type": "code",
      "source": [],
      "metadata": {
        "id": "13NGxtl5MA5T"
      },
      "execution_count": null,
      "outputs": []
    }
  ]
}